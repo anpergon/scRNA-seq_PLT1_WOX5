{
 "cells": [
  {
   "cell_type": "markdown",
   "id": "1937e9ab",
   "metadata": {},
   "source": [
    "**#Import libraries and dependencies (conda environment scRNA-seq_4)#**"
   ]
  },
  {
   "cell_type": "code",
   "execution_count": null,
   "id": "e2a35368",
   "metadata": {},
   "outputs": [
    {
     "name": "stdout",
     "output_type": "stream",
     "text": [
      "\n",
      "    WARNING: The R package \"reticulate\" only fixed recently\n",
      "    an issue that caused a segfault when used with rpy2:\n",
      "    https://github.com/rstudio/reticulate/pull/1188\n",
      "    Make sure that you use a version of that package that includes\n",
      "    the fix.\n",
      "    "
     ]
    }
   ],
   "source": [
    "# Import libraries and dependencies\n",
    "import scipy.io\n",
    "import os\n",
    "import scanpy as sc\n",
    "import numpy as np\n",
    "import scipy as sp\n",
    "import pandas as pd\n",
    "import anndata\n",
    "import scipy.sparse as sp\n",
    "\n",
    "%load_ext rpy2.ipython\n",
    "from rpy2.robjects.packages import importr\n",
    "seuratLib = importr('Seurat')"
   ]
  },
  {
   "cell_type": "markdown",
   "id": "b96375f9",
   "metadata": {},
   "source": [
    "**Shahan et al. (2022) samples**"
   ]
  },
  {
   "cell_type": "code",
   "execution_count": null,
   "id": "6dfd5310",
   "metadata": {},
   "outputs": [
    {
     "name": "stdout",
     "output_type": "stream",
     "text": [
      "Processing GSE152766_col0_COPILOT...\n"
     ]
    },
    {
     "name": "stderr",
     "output_type": "stream",
     "text": [
      "/lustre/BIF/nobackup/perez070/miniconda3/envs/scRNA-seq_4/lib/python3.11/site-packages/anndata/_core/aligned_df.py:68: ImplicitModificationWarning: Transforming to str index.\n",
      "  warnings.warn(\"Transforming to str index.\", ImplicitModificationWarning)\n"
     ]
    },
    {
     "name": "stdout",
     "output_type": "stream",
     "text": [
      "Saved GSE152766_col0_COPILOT.h5ad\n",
      "Processing GSE152766_sc_37_COPILOT...\n"
     ]
    },
    {
     "name": "stderr",
     "output_type": "stream",
     "text": [
      "/lustre/BIF/nobackup/perez070/miniconda3/envs/scRNA-seq_4/lib/python3.11/site-packages/anndata/_core/aligned_df.py:68: ImplicitModificationWarning: Transforming to str index.\n",
      "  warnings.warn(\"Transforming to str index.\", ImplicitModificationWarning)\n"
     ]
    },
    {
     "name": "stdout",
     "output_type": "stream",
     "text": [
      "Saved GSE152766_sc_37_COPILOT.h5ad\n",
      "Processing GSE152766_sc_11_COPILOT...\n"
     ]
    },
    {
     "name": "stderr",
     "output_type": "stream",
     "text": [
      "/lustre/BIF/nobackup/perez070/miniconda3/envs/scRNA-seq_4/lib/python3.11/site-packages/anndata/_core/aligned_df.py:68: ImplicitModificationWarning: Transforming to str index.\n",
      "  warnings.warn(\"Transforming to str index.\", ImplicitModificationWarning)\n"
     ]
    },
    {
     "name": "stdout",
     "output_type": "stream",
     "text": [
      "Saved GSE152766_sc_11_COPILOT.h5ad\n",
      "Processing GSE152766_sc_9_at_COPILOT...\n"
     ]
    },
    {
     "name": "stderr",
     "output_type": "stream",
     "text": [
      "/lustre/BIF/nobackup/perez070/miniconda3/envs/scRNA-seq_4/lib/python3.11/site-packages/anndata/_core/aligned_df.py:68: ImplicitModificationWarning: Transforming to str index.\n",
      "  warnings.warn(\"Transforming to str index.\", ImplicitModificationWarning)\n"
     ]
    },
    {
     "name": "stdout",
     "output_type": "stream",
     "text": [
      "Saved GSE152766_sc_9_at_COPILOT.h5ad\n",
      "Processing GSE152766_sc_31_COPILOT...\n"
     ]
    },
    {
     "name": "stderr",
     "output_type": "stream",
     "text": [
      "/lustre/BIF/nobackup/perez070/miniconda3/envs/scRNA-seq_4/lib/python3.11/site-packages/anndata/_core/aligned_df.py:68: ImplicitModificationWarning: Transforming to str index.\n",
      "  warnings.warn(\"Transforming to str index.\", ImplicitModificationWarning)\n"
     ]
    },
    {
     "name": "stdout",
     "output_type": "stream",
     "text": [
      "Saved GSE152766_sc_31_COPILOT.h5ad\n",
      "Processing GSE152766_sc_40_COPILOT...\n"
     ]
    },
    {
     "name": "stderr",
     "output_type": "stream",
     "text": [
      "/lustre/BIF/nobackup/perez070/miniconda3/envs/scRNA-seq_4/lib/python3.11/site-packages/anndata/_core/aligned_df.py:68: ImplicitModificationWarning: Transforming to str index.\n",
      "  warnings.warn(\"Transforming to str index.\", ImplicitModificationWarning)\n"
     ]
    },
    {
     "name": "stdout",
     "output_type": "stream",
     "text": [
      "Saved GSE152766_sc_40_COPILOT.h5ad\n",
      "Processing GSE152766_sc_10_at_COPILOT...\n"
     ]
    },
    {
     "name": "stderr",
     "output_type": "stream",
     "text": [
      "/lustre/BIF/nobackup/perez070/miniconda3/envs/scRNA-seq_4/lib/python3.11/site-packages/anndata/_core/aligned_df.py:68: ImplicitModificationWarning: Transforming to str index.\n",
      "  warnings.warn(\"Transforming to str index.\", ImplicitModificationWarning)\n"
     ]
    },
    {
     "name": "stdout",
     "output_type": "stream",
     "text": [
      "Saved GSE152766_sc_10_at_COPILOT.h5ad\n",
      "Processing GSE152766_sc_51_COPILOT...\n"
     ]
    },
    {
     "name": "stderr",
     "output_type": "stream",
     "text": [
      "/lustre/BIF/nobackup/perez070/miniconda3/envs/scRNA-seq_4/lib/python3.11/site-packages/anndata/_core/aligned_df.py:68: ImplicitModificationWarning: Transforming to str index.\n",
      "  warnings.warn(\"Transforming to str index.\", ImplicitModificationWarning)\n"
     ]
    },
    {
     "name": "stdout",
     "output_type": "stream",
     "text": [
      "Saved GSE152766_sc_51_COPILOT.h5ad\n",
      "Processing GSE152766_sc_12_COPILOT...\n"
     ]
    },
    {
     "name": "stderr",
     "output_type": "stream",
     "text": [
      "/lustre/BIF/nobackup/perez070/miniconda3/envs/scRNA-seq_4/lib/python3.11/site-packages/anndata/_core/aligned_df.py:68: ImplicitModificationWarning: Transforming to str index.\n",
      "  warnings.warn(\"Transforming to str index.\", ImplicitModificationWarning)\n"
     ]
    },
    {
     "name": "stdout",
     "output_type": "stream",
     "text": [
      "Saved GSE152766_sc_12_COPILOT.h5ad\n",
      "Processing GSE152766_sc_30_COPILOT...\n"
     ]
    },
    {
     "name": "stderr",
     "output_type": "stream",
     "text": [
      "/lustre/BIF/nobackup/perez070/miniconda3/envs/scRNA-seq_4/lib/python3.11/site-packages/anndata/_core/aligned_df.py:68: ImplicitModificationWarning: Transforming to str index.\n",
      "  warnings.warn(\"Transforming to str index.\", ImplicitModificationWarning)\n"
     ]
    },
    {
     "name": "stdout",
     "output_type": "stream",
     "text": [
      "Saved GSE152766_sc_30_COPILOT.h5ad\n",
      "Processing GSE152766_tnw2_COPILOT...\n"
     ]
    },
    {
     "name": "stderr",
     "output_type": "stream",
     "text": [
      "/lustre/BIF/nobackup/perez070/miniconda3/envs/scRNA-seq_4/lib/python3.11/site-packages/anndata/_core/aligned_df.py:68: ImplicitModificationWarning: Transforming to str index.\n",
      "  warnings.warn(\"Transforming to str index.\", ImplicitModificationWarning)\n"
     ]
    },
    {
     "name": "stdout",
     "output_type": "stream",
     "text": [
      "Saved GSE152766_tnw2_COPILOT.h5ad\n",
      "Processing GSE152766_tnw1_COPILOT...\n"
     ]
    },
    {
     "name": "stderr",
     "output_type": "stream",
     "text": [
      "/lustre/BIF/nobackup/perez070/miniconda3/envs/scRNA-seq_4/lib/python3.11/site-packages/anndata/_core/aligned_df.py:68: ImplicitModificationWarning: Transforming to str index.\n",
      "  warnings.warn(\"Transforming to str index.\", ImplicitModificationWarning)\n"
     ]
    },
    {
     "name": "stdout",
     "output_type": "stream",
     "text": [
      "Saved GSE152766_tnw1_COPILOT.h5ad\n",
      "Processing GSE152766_sc_1_COPILOT...\n"
     ]
    },
    {
     "name": "stderr",
     "output_type": "stream",
     "text": [
      "/lustre/BIF/nobackup/perez070/miniconda3/envs/scRNA-seq_4/lib/python3.11/site-packages/anndata/_core/aligned_df.py:68: ImplicitModificationWarning: Transforming to str index.\n",
      "  warnings.warn(\"Transforming to str index.\", ImplicitModificationWarning)\n"
     ]
    },
    {
     "name": "stdout",
     "output_type": "stream",
     "text": [
      "Saved GSE152766_sc_1_COPILOT.h5ad\n",
      "All samples processed successfully!\n"
     ]
    }
   ],
   "source": [
    "# Define the working directory where the .RData files are stored\n",
    "working_dir = \"/lustre/BIF/nobackup/perez070/scRNA-seq_PLT1-WOX5/supp_data/Shahan_samples\"\n",
    "\n",
    "# Create the output directory if it doesn't exist\n",
    "output_dir = os.path.join(working_dir, \"h5ad_files\")\n",
    "os.makedirs(output_dir, exist_ok=True)\n",
    "\n",
    "# List all .RData files in the directory\n",
    "rdata_files = [f for f in os.listdir(working_dir) if f.endswith(\"_rds_to_RData.RData\")]\n",
    "\n",
    "# Loop through each .RData file\n",
    "for rdata_file in rdata_files:\n",
    "    sample_name = rdata_file.replace(\"_rds_to_RData.RData\", \"\")\n",
    "    \n",
    "    print(f\"Processing {sample_name}...\")\n",
    "\n",
    "    # Load the .RData file using R magic\n",
    "    r_magic_command = f\"\"\"\n",
    "    %%R -o counts_RNA -o meta -o var\n",
    "    setwd(\"{working_dir}\")\n",
    "    load(\"{rdata_file}\")\n",
    "    \"\"\"\n",
    "    get_ipython().run_cell_magic('R', '-o counts_RNA -o meta -o var', f'setwd(\"{working_dir}\")\\nload(\"{rdata_file}\")')\n",
    "\n",
    "    # Convert them into sparse matrices\n",
    "    counts_RNA = sp.csr_matrix(counts_RNA, dtype=np.float32)\n",
    "\n",
    "    # Create AnnData object\n",
    "    seu = anndata.AnnData(\n",
    "        X=counts_RNA.T,\n",
    "        obs=meta,\n",
    "        var=pd.DataFrame(var, columns=[\"gene_id\"]),\n",
    "    )\n",
    "\n",
    "    # Set 'gene_id' as the index for the var dataframe\n",
    "    seu.var.set_index('gene_id', inplace=True)\n",
    "\n",
    "    # Save the AnnData object as an .h5ad file\n",
    "    output_file = os.path.join(output_dir, f\"{sample_name}.h5ad\")\n",
    "    seu.write(output_file)\n",
    "\n",
    "    print(f\"Saved {sample_name}.h5ad\")\n",
    "\n",
    "print(\"All samples processed successfully!\")\n"
   ]
  },
  {
   "cell_type": "markdown",
   "id": "13f152d5",
   "metadata": {},
   "source": [
    "**_PLT1 - WOX5_ overexpression line: total counts (scVI+scANVI+scTour+CellRank+MINI-EX)**"
   ]
  },
  {
   "cell_type": "code",
   "execution_count": null,
   "id": "2eb22011",
   "metadata": {},
   "outputs": [
    {
     "name": "stdout",
     "output_type": "stream",
     "text": [
      "Processing 4h_2_scKB_COPILOT...\n"
     ]
    },
    {
     "name": "stderr",
     "output_type": "stream",
     "text": [
      "/lustre/BIF/nobackup/perez070/miniconda3/envs/scRNA-seq_4/lib/python3.11/site-packages/anndata/_core/aligned_df.py:68: ImplicitModificationWarning: Transforming to str index.\n",
      "  warnings.warn(\"Transforming to str index.\", ImplicitModificationWarning)\n"
     ]
    },
    {
     "name": "stdout",
     "output_type": "stream",
     "text": [
      "Saved 4h_2_scKB_COPILOT.h5ad\n",
      "Processing 2h_1_scKB_COPILOT...\n"
     ]
    },
    {
     "name": "stderr",
     "output_type": "stream",
     "text": [
      "/lustre/BIF/nobackup/perez070/miniconda3/envs/scRNA-seq_4/lib/python3.11/site-packages/anndata/_core/aligned_df.py:68: ImplicitModificationWarning: Transforming to str index.\n",
      "  warnings.warn(\"Transforming to str index.\", ImplicitModificationWarning)\n"
     ]
    },
    {
     "name": "stdout",
     "output_type": "stream",
     "text": [
      "Saved 2h_1_scKB_COPILOT.h5ad\n",
      "Processing 1d_1_scKB_COPILOT...\n"
     ]
    },
    {
     "name": "stderr",
     "output_type": "stream",
     "text": [
      "/lustre/BIF/nobackup/perez070/miniconda3/envs/scRNA-seq_4/lib/python3.11/site-packages/anndata/_core/aligned_df.py:68: ImplicitModificationWarning: Transforming to str index.\n",
      "  warnings.warn(\"Transforming to str index.\", ImplicitModificationWarning)\n"
     ]
    },
    {
     "name": "stdout",
     "output_type": "stream",
     "text": [
      "Saved 1d_1_scKB_COPILOT.h5ad\n",
      "Processing 0h_1_scKB_COPILOT...\n"
     ]
    },
    {
     "name": "stderr",
     "output_type": "stream",
     "text": [
      "/lustre/BIF/nobackup/perez070/miniconda3/envs/scRNA-seq_4/lib/python3.11/site-packages/anndata/_core/aligned_df.py:68: ImplicitModificationWarning: Transforming to str index.\n",
      "  warnings.warn(\"Transforming to str index.\", ImplicitModificationWarning)\n"
     ]
    },
    {
     "name": "stdout",
     "output_type": "stream",
     "text": [
      "Saved 0h_1_scKB_COPILOT.h5ad\n",
      "Processing 4h_1_scKB_COPILOT...\n"
     ]
    },
    {
     "name": "stderr",
     "output_type": "stream",
     "text": [
      "/lustre/BIF/nobackup/perez070/miniconda3/envs/scRNA-seq_4/lib/python3.11/site-packages/anndata/_core/aligned_df.py:68: ImplicitModificationWarning: Transforming to str index.\n",
      "  warnings.warn(\"Transforming to str index.\", ImplicitModificationWarning)\n"
     ]
    },
    {
     "name": "stdout",
     "output_type": "stream",
     "text": [
      "Saved 4h_1_scKB_COPILOT.h5ad\n",
      "Processing 0h_2_scKB_COPILOT...\n"
     ]
    },
    {
     "name": "stderr",
     "output_type": "stream",
     "text": [
      "/lustre/BIF/nobackup/perez070/miniconda3/envs/scRNA-seq_4/lib/python3.11/site-packages/anndata/_core/aligned_df.py:68: ImplicitModificationWarning: Transforming to str index.\n",
      "  warnings.warn(\"Transforming to str index.\", ImplicitModificationWarning)\n"
     ]
    },
    {
     "name": "stdout",
     "output_type": "stream",
     "text": [
      "Saved 0h_2_scKB_COPILOT.h5ad\n",
      "Processing 2h_2_scKB_COPILOT...\n"
     ]
    },
    {
     "name": "stderr",
     "output_type": "stream",
     "text": [
      "/lustre/BIF/nobackup/perez070/miniconda3/envs/scRNA-seq_4/lib/python3.11/site-packages/anndata/_core/aligned_df.py:68: ImplicitModificationWarning: Transforming to str index.\n",
      "  warnings.warn(\"Transforming to str index.\", ImplicitModificationWarning)\n"
     ]
    },
    {
     "name": "stdout",
     "output_type": "stream",
     "text": [
      "Saved 2h_2_scKB_COPILOT.h5ad\n",
      "Processing 7d_2_scKB_COPILOT...\n"
     ]
    },
    {
     "name": "stderr",
     "output_type": "stream",
     "text": [
      "/lustre/BIF/nobackup/perez070/miniconda3/envs/scRNA-seq_4/lib/python3.11/site-packages/anndata/_core/aligned_df.py:68: ImplicitModificationWarning: Transforming to str index.\n",
      "  warnings.warn(\"Transforming to str index.\", ImplicitModificationWarning)\n"
     ]
    },
    {
     "name": "stdout",
     "output_type": "stream",
     "text": [
      "Saved 7d_2_scKB_COPILOT.h5ad\n",
      "Processing 4d_2_scKB_COPILOT...\n"
     ]
    },
    {
     "name": "stderr",
     "output_type": "stream",
     "text": [
      "/lustre/BIF/nobackup/perez070/miniconda3/envs/scRNA-seq_4/lib/python3.11/site-packages/anndata/_core/aligned_df.py:68: ImplicitModificationWarning: Transforming to str index.\n",
      "  warnings.warn(\"Transforming to str index.\", ImplicitModificationWarning)\n"
     ]
    },
    {
     "name": "stdout",
     "output_type": "stream",
     "text": [
      "Saved 4d_2_scKB_COPILOT.h5ad\n",
      "Processing 1d_2_scKB_COPILOT...\n"
     ]
    },
    {
     "name": "stderr",
     "output_type": "stream",
     "text": [
      "/lustre/BIF/nobackup/perez070/miniconda3/envs/scRNA-seq_4/lib/python3.11/site-packages/anndata/_core/aligned_df.py:68: ImplicitModificationWarning: Transforming to str index.\n",
      "  warnings.warn(\"Transforming to str index.\", ImplicitModificationWarning)\n"
     ]
    },
    {
     "name": "stdout",
     "output_type": "stream",
     "text": [
      "Saved 1d_2_scKB_COPILOT.h5ad\n",
      "Processing 10h_2_scKB_COPILOT...\n"
     ]
    },
    {
     "name": "stderr",
     "output_type": "stream",
     "text": [
      "/lustre/BIF/nobackup/perez070/miniconda3/envs/scRNA-seq_4/lib/python3.11/site-packages/anndata/_core/aligned_df.py:68: ImplicitModificationWarning: Transforming to str index.\n",
      "  warnings.warn(\"Transforming to str index.\", ImplicitModificationWarning)\n"
     ]
    },
    {
     "name": "stdout",
     "output_type": "stream",
     "text": [
      "Saved 10h_2_scKB_COPILOT.h5ad\n",
      "Processing 10h_1_scKB_COPILOT...\n"
     ]
    },
    {
     "name": "stderr",
     "output_type": "stream",
     "text": [
      "/lustre/BIF/nobackup/perez070/miniconda3/envs/scRNA-seq_4/lib/python3.11/site-packages/anndata/_core/aligned_df.py:68: ImplicitModificationWarning: Transforming to str index.\n",
      "  warnings.warn(\"Transforming to str index.\", ImplicitModificationWarning)\n"
     ]
    },
    {
     "name": "stdout",
     "output_type": "stream",
     "text": [
      "Saved 10h_1_scKB_COPILOT.h5ad\n",
      "Processing 7d_1_scKB_COPILOT...\n"
     ]
    },
    {
     "name": "stderr",
     "output_type": "stream",
     "text": [
      "/lustre/BIF/nobackup/perez070/miniconda3/envs/scRNA-seq_4/lib/python3.11/site-packages/anndata/_core/aligned_df.py:68: ImplicitModificationWarning: Transforming to str index.\n",
      "  warnings.warn(\"Transforming to str index.\", ImplicitModificationWarning)\n"
     ]
    },
    {
     "name": "stdout",
     "output_type": "stream",
     "text": [
      "Saved 7d_1_scKB_COPILOT.h5ad\n",
      "Processing 4d_1_scKB_COPILOT...\n"
     ]
    },
    {
     "name": "stderr",
     "output_type": "stream",
     "text": [
      "/lustre/BIF/nobackup/perez070/miniconda3/envs/scRNA-seq_4/lib/python3.11/site-packages/anndata/_core/aligned_df.py:68: ImplicitModificationWarning: Transforming to str index.\n",
      "  warnings.warn(\"Transforming to str index.\", ImplicitModificationWarning)\n"
     ]
    },
    {
     "name": "stdout",
     "output_type": "stream",
     "text": [
      "Saved 4d_1_scKB_COPILOT.h5ad\n",
      "All samples processed successfully!\n"
     ]
    }
   ],
   "source": [
    "# Define the working directory where the .RData files are stored\n",
    "working_dir = \"/lustre/BIF/nobackup/perez070/scRNA-seq_PLT1-WOX5/output/2-COPILOT\"\n",
    "\n",
    "# Create the output directory if it doesn't exist\n",
    "output_dir = os.path.join(working_dir, \"h5ad_files_total\")\n",
    "os.makedirs(output_dir, exist_ok=True)\n",
    "\n",
    "# List all .RData files in the directory\n",
    "rdata_files = [f for f in os.listdir(working_dir) if f.endswith(\"_rds_to_RData_total.RData\")]\n",
    "\n",
    "# Loop through each .RData file\n",
    "for rdata_file in rdata_files:\n",
    "    sample_name = rdata_file.replace(\"_rds_to_RData_total.RData\", \"\")\n",
    "    \n",
    "    print(f\"Processing {sample_name}...\")\n",
    "\n",
    "    # Load the .RData file using R magic\n",
    "    r_magic_command = f\"\"\"\n",
    "    %%R -o counts_RNA -o var\n",
    "    setwd(\"{working_dir}\")\n",
    "    load(\"{rdata_file}\")\n",
    "    \"\"\"\n",
    "    get_ipython().run_cell_magic('R', '-o counts_RNA -o var', f'setwd(\"{working_dir}\")\\nload(\"{rdata_file}\")')\n",
    "\n",
    "    # Convert them into sparse matrices\n",
    "    counts_RNA = sp.csr_matrix(counts_RNA, dtype=np.float32)\n",
    "\n",
    "    # Create AnnData object\n",
    "    seu = anndata.AnnData(\n",
    "        X=counts_RNA.T,\n",
    "        var=pd.DataFrame(var, columns=[\"gene_id\"]),\n",
    "    )\n",
    "\n",
    "    # Set 'gene_id' as the index for the var dataframe\n",
    "    seu.var.set_index('gene_id', inplace=True)\n",
    "\n",
    "    # Save the AnnData object as an .h5ad file\n",
    "    output_file = os.path.join(output_dir, f\"{sample_name}.h5ad\")\n",
    "    seu.write(output_file)\n",
    "\n",
    "    print(f\"Saved {sample_name}.h5ad\")\n",
    "\n",
    "print(\"All samples processed successfully!\")\n"
   ]
  },
  {
   "cell_type": "markdown",
   "id": "c0e50024",
   "metadata": {},
   "source": [
    "**_PLT1 - WOX5_ overexpression line: (un)spliced counts (scVelo)**"
   ]
  },
  {
   "cell_type": "code",
   "execution_count": null,
   "id": "b11115b7",
   "metadata": {},
   "outputs": [
    {
     "name": "stdout",
     "output_type": "stream",
     "text": [
      "Processing 2h_2_scKB_COPILOT...\n"
     ]
    },
    {
     "name": "stderr",
     "output_type": "stream",
     "text": [
      "/lustre/BIF/nobackup/perez070/miniconda3/envs/scRNA-seq_4/lib/python3.11/site-packages/anndata/_core/aligned_df.py:68: ImplicitModificationWarning: Transforming to str index.\n",
      "  warnings.warn(\"Transforming to str index.\", ImplicitModificationWarning)\n"
     ]
    },
    {
     "name": "stdout",
     "output_type": "stream",
     "text": [
      "Saved 2h_2_scKB_COPILOT.h5ad\n",
      "Processing 4h_2_scKB_COPILOT...\n"
     ]
    },
    {
     "name": "stderr",
     "output_type": "stream",
     "text": [
      "/lustre/BIF/nobackup/perez070/miniconda3/envs/scRNA-seq_4/lib/python3.11/site-packages/anndata/_core/aligned_df.py:68: ImplicitModificationWarning: Transforming to str index.\n",
      "  warnings.warn(\"Transforming to str index.\", ImplicitModificationWarning)\n"
     ]
    },
    {
     "name": "stdout",
     "output_type": "stream",
     "text": [
      "Saved 4h_2_scKB_COPILOT.h5ad\n",
      "Processing 7d_2_scKB_COPILOT...\n"
     ]
    },
    {
     "name": "stderr",
     "output_type": "stream",
     "text": [
      "/lustre/BIF/nobackup/perez070/miniconda3/envs/scRNA-seq_4/lib/python3.11/site-packages/anndata/_core/aligned_df.py:68: ImplicitModificationWarning: Transforming to str index.\n",
      "  warnings.warn(\"Transforming to str index.\", ImplicitModificationWarning)\n"
     ]
    },
    {
     "name": "stdout",
     "output_type": "stream",
     "text": [
      "Saved 7d_2_scKB_COPILOT.h5ad\n",
      "Processing 1d_1_scKB_COPILOT...\n"
     ]
    },
    {
     "name": "stderr",
     "output_type": "stream",
     "text": [
      "/lustre/BIF/nobackup/perez070/miniconda3/envs/scRNA-seq_4/lib/python3.11/site-packages/anndata/_core/aligned_df.py:68: ImplicitModificationWarning: Transforming to str index.\n",
      "  warnings.warn(\"Transforming to str index.\", ImplicitModificationWarning)\n"
     ]
    },
    {
     "name": "stdout",
     "output_type": "stream",
     "text": [
      "Saved 1d_1_scKB_COPILOT.h5ad\n",
      "Processing 4h_1_scKB_COPILOT...\n"
     ]
    },
    {
     "name": "stderr",
     "output_type": "stream",
     "text": [
      "/lustre/BIF/nobackup/perez070/miniconda3/envs/scRNA-seq_4/lib/python3.11/site-packages/anndata/_core/aligned_df.py:68: ImplicitModificationWarning: Transforming to str index.\n",
      "  warnings.warn(\"Transforming to str index.\", ImplicitModificationWarning)\n"
     ]
    },
    {
     "name": "stdout",
     "output_type": "stream",
     "text": [
      "Saved 4h_1_scKB_COPILOT.h5ad\n",
      "Processing 10h_1_scKB_COPILOT...\n"
     ]
    },
    {
     "name": "stderr",
     "output_type": "stream",
     "text": [
      "/lustre/BIF/nobackup/perez070/miniconda3/envs/scRNA-seq_4/lib/python3.11/site-packages/anndata/_core/aligned_df.py:68: ImplicitModificationWarning: Transforming to str index.\n",
      "  warnings.warn(\"Transforming to str index.\", ImplicitModificationWarning)\n"
     ]
    },
    {
     "name": "stdout",
     "output_type": "stream",
     "text": [
      "Saved 10h_1_scKB_COPILOT.h5ad\n",
      "Processing 4d_2_scKB_COPILOT...\n"
     ]
    },
    {
     "name": "stderr",
     "output_type": "stream",
     "text": [
      "/lustre/BIF/nobackup/perez070/miniconda3/envs/scRNA-seq_4/lib/python3.11/site-packages/anndata/_core/aligned_df.py:68: ImplicitModificationWarning: Transforming to str index.\n",
      "  warnings.warn(\"Transforming to str index.\", ImplicitModificationWarning)\n"
     ]
    },
    {
     "name": "stdout",
     "output_type": "stream",
     "text": [
      "Saved 4d_2_scKB_COPILOT.h5ad\n",
      "Processing 4d_1_scKB_COPILOT...\n"
     ]
    },
    {
     "name": "stderr",
     "output_type": "stream",
     "text": [
      "/lustre/BIF/nobackup/perez070/miniconda3/envs/scRNA-seq_4/lib/python3.11/site-packages/anndata/_core/aligned_df.py:68: ImplicitModificationWarning: Transforming to str index.\n",
      "  warnings.warn(\"Transforming to str index.\", ImplicitModificationWarning)\n"
     ]
    },
    {
     "name": "stdout",
     "output_type": "stream",
     "text": [
      "Saved 4d_1_scKB_COPILOT.h5ad\n",
      "Processing 0h_1_scKB_COPILOT...\n"
     ]
    },
    {
     "name": "stderr",
     "output_type": "stream",
     "text": [
      "/lustre/BIF/nobackup/perez070/miniconda3/envs/scRNA-seq_4/lib/python3.11/site-packages/anndata/_core/aligned_df.py:68: ImplicitModificationWarning: Transforming to str index.\n",
      "  warnings.warn(\"Transforming to str index.\", ImplicitModificationWarning)\n"
     ]
    },
    {
     "name": "stdout",
     "output_type": "stream",
     "text": [
      "Saved 0h_1_scKB_COPILOT.h5ad\n",
      "Processing 1d_2_scKB_COPILOT...\n"
     ]
    },
    {
     "name": "stderr",
     "output_type": "stream",
     "text": [
      "/lustre/BIF/nobackup/perez070/miniconda3/envs/scRNA-seq_4/lib/python3.11/site-packages/anndata/_core/aligned_df.py:68: ImplicitModificationWarning: Transforming to str index.\n",
      "  warnings.warn(\"Transforming to str index.\", ImplicitModificationWarning)\n"
     ]
    },
    {
     "name": "stdout",
     "output_type": "stream",
     "text": [
      "Saved 1d_2_scKB_COPILOT.h5ad\n",
      "Processing 0h_2_scKB_COPILOT...\n"
     ]
    },
    {
     "name": "stderr",
     "output_type": "stream",
     "text": [
      "/lustre/BIF/nobackup/perez070/miniconda3/envs/scRNA-seq_4/lib/python3.11/site-packages/anndata/_core/aligned_df.py:68: ImplicitModificationWarning: Transforming to str index.\n",
      "  warnings.warn(\"Transforming to str index.\", ImplicitModificationWarning)\n"
     ]
    },
    {
     "name": "stdout",
     "output_type": "stream",
     "text": [
      "Saved 0h_2_scKB_COPILOT.h5ad\n",
      "Processing 7d_1_scKB_COPILOT...\n"
     ]
    },
    {
     "name": "stderr",
     "output_type": "stream",
     "text": [
      "/lustre/BIF/nobackup/perez070/miniconda3/envs/scRNA-seq_4/lib/python3.11/site-packages/anndata/_core/aligned_df.py:68: ImplicitModificationWarning: Transforming to str index.\n",
      "  warnings.warn(\"Transforming to str index.\", ImplicitModificationWarning)\n"
     ]
    },
    {
     "name": "stdout",
     "output_type": "stream",
     "text": [
      "Saved 7d_1_scKB_COPILOT.h5ad\n",
      "Processing 2h_1_scKB_COPILOT...\n"
     ]
    },
    {
     "name": "stderr",
     "output_type": "stream",
     "text": [
      "/lustre/BIF/nobackup/perez070/miniconda3/envs/scRNA-seq_4/lib/python3.11/site-packages/anndata/_core/aligned_df.py:68: ImplicitModificationWarning: Transforming to str index.\n",
      "  warnings.warn(\"Transforming to str index.\", ImplicitModificationWarning)\n"
     ]
    },
    {
     "name": "stdout",
     "output_type": "stream",
     "text": [
      "Saved 2h_1_scKB_COPILOT.h5ad\n",
      "Processing 10h_2_scKB_COPILOT...\n"
     ]
    },
    {
     "name": "stderr",
     "output_type": "stream",
     "text": [
      "/lustre/BIF/nobackup/perez070/miniconda3/envs/scRNA-seq_4/lib/python3.11/site-packages/anndata/_core/aligned_df.py:68: ImplicitModificationWarning: Transforming to str index.\n",
      "  warnings.warn(\"Transforming to str index.\", ImplicitModificationWarning)\n"
     ]
    },
    {
     "name": "stdout",
     "output_type": "stream",
     "text": [
      "Saved 10h_2_scKB_COPILOT.h5ad\n",
      "All samples processed successfully!\n"
     ]
    }
   ],
   "source": [
    "# Define the working directory where the .RData files are stored\n",
    "working_dir = \"/lustre/BIF/nobackup/perez070/scRNA-seq_PLT1-WOX5/output/2-COPILOT\"\n",
    "\n",
    "# Create the output directory if it doesn't exist\n",
    "output_dir = os.path.join(working_dir, \"h5ad_files_spliced\")\n",
    "os.makedirs(output_dir, exist_ok=True)\n",
    "\n",
    "# List all .RData files in the directory\n",
    "rdata_files = [f for f in os.listdir(working_dir) if f.endswith(\"_rds_to_RData_spliced.RData\")]\n",
    "\n",
    "# Loop through each .RData file\n",
    "for rdata_file in rdata_files:\n",
    "    sample_name = rdata_file.replace(\"_rds_to_RData_spliced.RData\", \"\")\n",
    "    \n",
    "    print(f\"Processing {sample_name}...\")\n",
    "\n",
    "    # Load the .RData file using R magic\n",
    "    r_magic_command = f\"\"\"\n",
    "    %%R -o data_RNA -o data_spliced_RNA -o data_unspliced_RNA -o var\n",
    "    setwd(\"{working_dir}\")\n",
    "    load(\"{rdata_file}\")\n",
    "    \"\"\"\n",
    "    get_ipython().run_cell_magic('R', '-o data_RNA -o data_spliced_RNA -o data_unspliced_RNA -o var', f'setwd(\"{working_dir}\")\\nload(\"{rdata_file}\")')\n",
    "\n",
    "    # Convert them into sparse matrices\n",
    "    data_RNA = sp.csr_matrix(data_RNA, dtype=np.float32)\n",
    "    data_spliced_RNA = sp.csr_matrix(data_spliced_RNA, dtype=np.float32)\n",
    "    data_unspliced_RNA = sp.csr_matrix(data_unspliced_RNA, dtype=np.float32)\n",
    "\n",
    "    # Create AnnData object\n",
    "    seu = anndata.AnnData(\n",
    "        X=data_RNA.T,\n",
    "        var=pd.DataFrame(var, columns=[\"gene_id\"]),\n",
    "        layers={\n",
    "            'spliced': data_spliced_RNA.T,\n",
    "            'unspliced': data_unspliced_RNA.T,\n",
    "        }\n",
    "    )\n",
    "\n",
    "    # Set 'gene_id' as the index for the var dataframe\n",
    "    seu.var.set_index('gene_id', inplace=True)\n",
    "\n",
    "    # Save the AnnData object as an .h5ad file\n",
    "    output_file = os.path.join(output_dir, f\"{sample_name}.h5ad\")\n",
    "    seu.write(output_file)\n",
    "\n",
    "    print(f\"Saved {sample_name}.h5ad\")\n",
    "\n",
    "print(\"All samples processed successfully!\")\n"
   ]
  }
 ],
 "metadata": {
  "kernelspec": {
   "display_name": "scRNA-seq_4",
   "language": "python",
   "name": "python3"
  },
  "language_info": {
   "codemirror_mode": {
    "name": "ipython",
    "version": 3
   },
   "file_extension": ".py",
   "mimetype": "text/x-python",
   "name": "python",
   "nbconvert_exporter": "python",
   "pygments_lexer": "ipython3",
   "version": "3.11.11"
  }
 },
 "nbformat": 4,
 "nbformat_minor": 5
}
