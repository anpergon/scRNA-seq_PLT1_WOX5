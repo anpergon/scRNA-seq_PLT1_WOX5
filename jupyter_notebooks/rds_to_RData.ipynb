{
 "cells": [
  {
   "cell_type": "markdown",
   "id": "e08bfc0f",
   "metadata": {},
   "source": [
    "**Conda environment: conda_sceasy**"
   ]
  },
  {
   "cell_type": "markdown",
   "id": "8512e629",
   "metadata": {},
   "source": [
    "**Shahan et al. (2022) samples**"
   ]
  },
  {
   "cell_type": "code",
   "execution_count": 1,
   "id": "1da3d2c5",
   "metadata": {
    "vscode": {
     "languageId": "r"
    }
   },
   "outputs": [
    {
     "name": "stdout",
     "output_type": "stream",
     "text": [
      "[1] \"GSE152766_col0_COPILOT.rds\"\n"
     ]
    },
    {
     "name": "stderr",
     "output_type": "stream",
     "text": [
      "Loading required package: Seurat\n",
      "\n",
      "Loading required package: SeuratObject\n",
      "\n",
      "Loading required package: sp\n",
      "\n",
      "‘SeuratObject’ was built with package ‘Matrix’ 1.7.2 but the current\n",
      "version is 1.7.3; it is recomended that you reinstall ‘SeuratObject’ as\n",
      "the ABI for ‘Matrix’ may have changed\n",
      "\n",
      "\n",
      "Attaching package: ‘SeuratObject’\n",
      "\n",
      "\n",
      "The following objects are masked from ‘package:base’:\n",
      "\n",
      "    intersect, t\n",
      "\n",
      "\n"
     ]
    },
    {
     "name": "stdout",
     "output_type": "stream",
     "text": [
      "An object of class Seurat \n",
      "135392 features across 6433 samples within 6 assays \n",
      "Active assay: SCT (22211 features, 22211 variable features)\n",
      " 3 layers present: counts, data, scale.data\n",
      " 5 other assays present: RNA, spliced_RNA, unspliced_RNA, spliced_SCT, unspliced_SCT\n",
      " 2 dimensional reductions calculated: pca, umap\n"
     ]
    },
    {
     "name": "stderr",
     "output_type": "stream",
     "text": [
      "Warning message in asMethod(object):\n",
      "“sparse->dense coercion: allocating vector of size 1.2 GiB”\n"
     ]
    },
    {
     "name": "stdout",
     "output_type": "stream",
     "text": [
      "[1] \"GSE152766_sc_1_COPILOT.rds\"\n",
      "An object of class Seurat \n",
      "133961 features across 9759 samples within 6 assays \n",
      "Active assay: SCT (21844 features, 21844 variable features)\n",
      " 3 layers present: counts, data, scale.data\n",
      " 5 other assays present: RNA, spliced_RNA, unspliced_RNA, spliced_SCT, unspliced_SCT\n",
      " 2 dimensional reductions calculated: pca, umap\n"
     ]
    },
    {
     "name": "stderr",
     "output_type": "stream",
     "text": [
      "Warning message in asMethod(object):\n",
      "“sparse->dense coercion: allocating vector of size 1.8 GiB”\n"
     ]
    },
    {
     "name": "stdout",
     "output_type": "stream",
     "text": [
      "[1] \"GSE152766_sc_10_at_COPILOT.rds\"\n",
      "An object of class Seurat \n",
      "138583 features across 9286 samples within 6 assays \n",
      "Active assay: SCT (22780 features, 22780 variable features)\n",
      " 3 layers present: counts, data, scale.data\n",
      " 5 other assays present: RNA, spliced_RNA, unspliced_RNA, spliced_SCT, unspliced_SCT\n",
      " 2 dimensional reductions calculated: pca, umap\n"
     ]
    },
    {
     "name": "stderr",
     "output_type": "stream",
     "text": [
      "Warning message in asMethod(object):\n",
      "“sparse->dense coercion: allocating vector of size 1.8 GiB”\n"
     ]
    },
    {
     "name": "stdout",
     "output_type": "stream",
     "text": [
      "[1] \"GSE152766_sc_11_COPILOT.rds\"\n",
      "An object of class Seurat \n",
      "136066 features across 9177 samples within 6 assays \n",
      "Active assay: SCT (22354 features, 22354 variable features)\n",
      " 3 layers present: counts, data, scale.data\n",
      " 5 other assays present: RNA, spliced_RNA, unspliced_RNA, spliced_SCT, unspliced_SCT\n",
      " 2 dimensional reductions calculated: pca, umap\n"
     ]
    },
    {
     "name": "stderr",
     "output_type": "stream",
     "text": [
      "Warning message in asMethod(object):\n",
      "“sparse->dense coercion: allocating vector of size 1.7 GiB”\n"
     ]
    },
    {
     "name": "stdout",
     "output_type": "stream",
     "text": [
      "[1] \"GSE152766_sc_12_COPILOT.rds\"\n",
      "An object of class Seurat \n",
      "142081 features across 10293 samples within 6 assays \n",
      "Active assay: SCT (23357 features, 23357 variable features)\n",
      " 3 layers present: counts, data, scale.data\n",
      " 5 other assays present: RNA, spliced_RNA, unspliced_RNA, spliced_SCT, unspliced_SCT\n",
      " 2 dimensional reductions calculated: pca, umap\n"
     ]
    },
    {
     "name": "stderr",
     "output_type": "stream",
     "text": [
      "Warning message in asMethod(object):\n",
      "“sparse->dense coercion: allocating vector of size 2.0 GiB”\n"
     ]
    },
    {
     "name": "stdout",
     "output_type": "stream",
     "text": [
      "[1] \"GSE152766_sc_30_COPILOT.rds\"\n",
      "An object of class Seurat \n",
      "134126 features across 10195 samples within 6 assays \n",
      "Active assay: SCT (21999 features, 21999 variable features)\n",
      " 3 layers present: counts, data, scale.data\n",
      " 5 other assays present: RNA, spliced_RNA, unspliced_RNA, spliced_SCT, unspliced_SCT\n",
      " 2 dimensional reductions calculated: pca, umap\n"
     ]
    },
    {
     "name": "stderr",
     "output_type": "stream",
     "text": [
      "Warning message in asMethod(object):\n",
      "“sparse->dense coercion: allocating vector of size 1.9 GiB”\n"
     ]
    },
    {
     "name": "stdout",
     "output_type": "stream",
     "text": [
      "[1] \"GSE152766_sc_31_COPILOT.rds\"\n",
      "An object of class Seurat \n",
      "134490 features across 8775 samples within 6 assays \n",
      "Active assay: SCT (22117 features, 22117 variable features)\n",
      " 3 layers present: counts, data, scale.data\n",
      " 5 other assays present: RNA, spliced_RNA, unspliced_RNA, spliced_SCT, unspliced_SCT\n",
      " 2 dimensional reductions calculated: pca, umap\n"
     ]
    },
    {
     "name": "stderr",
     "output_type": "stream",
     "text": [
      "Warning message in asMethod(object):\n",
      "“sparse->dense coercion: allocating vector of size 1.6 GiB”\n"
     ]
    },
    {
     "name": "stdout",
     "output_type": "stream",
     "text": [
      "[1] \"GSE152766_sc_37_COPILOT.rds\"\n",
      "An object of class Seurat \n",
      "137078 features across 5870 samples within 6 assays \n",
      "Active assay: SCT (22551 features, 22551 variable features)\n",
      " 3 layers present: counts, data, scale.data\n",
      " 5 other assays present: RNA, spliced_RNA, unspliced_RNA, spliced_SCT, unspliced_SCT\n",
      " 2 dimensional reductions calculated: pca, umap\n"
     ]
    },
    {
     "name": "stderr",
     "output_type": "stream",
     "text": [
      "Warning message in asMethod(object):\n",
      "“sparse->dense coercion: allocating vector of size 1.1 GiB”\n"
     ]
    },
    {
     "name": "stdout",
     "output_type": "stream",
     "text": [
      "[1] \"GSE152766_sc_40_COPILOT.rds\"\n",
      "An object of class Seurat \n",
      "139246 features across 7284 samples within 6 assays \n",
      "Active assay: SCT (22910 features, 22910 variable features)\n",
      " 3 layers present: counts, data, scale.data\n",
      " 5 other assays present: RNA, spliced_RNA, unspliced_RNA, spliced_SCT, unspliced_SCT\n",
      " 2 dimensional reductions calculated: pca, umap\n"
     ]
    },
    {
     "name": "stderr",
     "output_type": "stream",
     "text": [
      "Warning message in asMethod(object):\n",
      "“sparse->dense coercion: allocating vector of size 1.4 GiB”\n"
     ]
    },
    {
     "name": "stdout",
     "output_type": "stream",
     "text": [
      "[1] \"GSE152766_sc_51_COPILOT.rds\"\n",
      "An object of class Seurat \n",
      "134344 features across 6394 samples within 6 assays \n",
      "Active assay: SCT (22008 features, 22008 variable features)\n",
      " 3 layers present: counts, data, scale.data\n",
      " 5 other assays present: RNA, spliced_RNA, unspliced_RNA, spliced_SCT, unspliced_SCT\n",
      " 2 dimensional reductions calculated: pca, umap\n"
     ]
    },
    {
     "name": "stderr",
     "output_type": "stream",
     "text": [
      "Warning message in asMethod(object):\n",
      "“sparse->dense coercion: allocating vector of size 1.2 GiB”\n"
     ]
    },
    {
     "name": "stdout",
     "output_type": "stream",
     "text": [
      "[1] \"GSE152766_sc_9_at_COPILOT.rds\"\n",
      "An object of class Seurat \n",
      "136431 features across 3808 samples within 6 assays \n",
      "Active assay: SCT (22116 features, 22116 variable features)\n",
      " 3 layers present: counts, data, scale.data\n",
      " 5 other assays present: RNA, spliced_RNA, unspliced_RNA, spliced_SCT, unspliced_SCT\n",
      " 2 dimensional reductions calculated: pca, umap\n",
      "[1] \"GSE152766_tnw1_COPILOT.rds\"\n",
      "An object of class Seurat \n",
      "136271 features across 4887 samples within 6 assays \n",
      "Active assay: SCT (22274 features, 22274 variable features)\n",
      " 3 layers present: counts, data, scale.data\n",
      " 5 other assays present: RNA, spliced_RNA, unspliced_RNA, spliced_SCT, unspliced_SCT\n",
      " 2 dimensional reductions calculated: pca, umap\n",
      "[1] \"GSE152766_tnw2_COPILOT.rds\"\n",
      "An object of class Seurat \n",
      "137311 features across 3938 samples within 6 assays \n",
      "Active assay: SCT (22465 features, 22465 variable features)\n",
      " 3 layers present: counts, data, scale.data\n",
      " 5 other assays present: RNA, spliced_RNA, unspliced_RNA, spliced_SCT, unspliced_SCT\n",
      " 2 dimensional reductions calculated: pca, umap\n"
     ]
    }
   ],
   "source": [
    "# Set the working directory\n",
    "setwd(\"/lustre/BIF/nobackup/perez070/scRNA-seq_PLT1-WOX5/supp_data/Shahan_samples\")\n",
    "\n",
    "# Get a list of all .rds files in the working directory\n",
    "rds_files <- list.files(pattern = \"\\\\.rds$\")\n",
    "\n",
    "# Loop through each .rds file\n",
    "for (rds_file in rds_files) {\n",
    "  \n",
    "  print(rds_file)\n",
    "\n",
    "  # Read the Seurat object from the .rds file\n",
    "  seurat_object <- readRDS(rds_file)\n",
    "\n",
    "  print(seurat_object)\n",
    "  \n",
    "  # Extract the counts from the RNA assay (raw counts)\n",
    "  counts_RNA <- seurat_object[[\"RNA\"]]$counts\n",
    "  \n",
    "  # Convert to matrix and handle NaN values\n",
    "  counts_RNA <- as.matrix(counts_RNA)\n",
    "  \n",
    "  # Replace NaN values with 0 in all layers\n",
    "  counts_RNA[is.nan(counts_RNA)] <- 0\n",
    "\n",
    "  # Extract metadata columns of interest\n",
    "  meta <- seurat_object@meta.data[, grep(\"time.anno|celltype.anno|time.celltype.anno|CytoTRACE\", colnames(seurat_object@meta.data))]\n",
    "  \n",
    "  # Store gene identifiers\n",
    "  var <- rownames(seurat_object[[\"RNA\"]]$counts)\n",
    "  \n",
    "  # Save the extracted data into an .RData file with the same name as the input .rds file\n",
    "  save(counts_RNA,\n",
    "       meta, var, file = paste0(tools::file_path_sans_ext(rds_file), \"_rds_to_RData.RData\"))\n",
    "}"
   ]
  },
  {
   "cell_type": "markdown",
   "id": "15fb9378",
   "metadata": {},
   "source": [
    "**_PLT1 - WOX5_ overexpression line: total counts (scVI+scANVI+scTour+CellRank+MINI-EX)**"
   ]
  },
  {
   "cell_type": "code",
   "execution_count": null,
   "id": "13d0119b",
   "metadata": {
    "vscode": {
     "languageId": "r"
    }
   },
   "outputs": [
    {
     "name": "stdout",
     "output_type": "stream",
     "text": [
      "[1] \"0h_1_scKB_COPILOT.rds\"\n",
      "$RNA\n",
      "Assay (v5) data with 27643 features for 8349 cells\n",
      "First 10 features:\n",
      " AT1G01010, AT1G01040, AT1G03997, AT1G01110, AT1G01160, AT1G04013,\n",
      "AT1G01180, AT1G01210, AT1G01220, AT1G01225 \n",
      "Layers:\n",
      " counts \n",
      "\n",
      "$spliced_RNA\n",
      "Assay data with 27643 features for 8349 cells\n",
      "First 10 features:\n",
      " AT1G01010, AT1G01040, AT1G03997, AT1G01110, AT1G01160, AT1G04013,\n",
      "AT1G01180, AT1G01210, AT1G01220, AT1G01225 \n",
      "\n",
      "$unspliced_RNA\n",
      "Assay data with 27643 features for 8349 cells\n",
      "First 10 features:\n",
      " AT1G01010, AT1G01040, AT1G03997, AT1G01110, AT1G01160, AT1G04013,\n",
      "AT1G01180, AT1G01210, AT1G01220, AT1G01225 \n",
      "\n",
      "$SCT\n",
      "SCTAssay data with 23392 features for 8349 cells, and 1 SCTModel(s) \n",
      "Top 10 variable features:\n",
      " AT2G36100, AT1G52070, AT1G52060, AT2G39430, AT2G28670, AT3G24020,\n",
      "AT5G42180, AT2G31083, AT3G55230, AT4G13580 \n",
      "\n",
      "$spliced_SCT\n",
      "SCTAssay data with 23092 features for 8349 cells, and 1 SCTModel(s) \n",
      "Top 10 variable features:\n",
      " AT1G52070, AT2G36100, AT2G39430, AT1G52060, AT3G24020, AT2G28670,\n",
      "AT5G42180, AT2G31083, AT3G55230, AT4G13580 \n",
      "\n",
      "$unspliced_SCT\n",
      "SCTAssay data with 15054 features for 8349 cells, and 1 SCTModel(s) \n",
      "Top 10 variable features:\n",
      " AT2G05440, AT4G11320, AT2G33830, AT2G30860, AT5G43380, AT3G47540,\n",
      "AT5G10580, AT5G57785, AT3G53980, AT3G03270 \n",
      "\n"
     ]
    },
    {
     "name": "stderr",
     "output_type": "stream",
     "text": [
      "Warning message in asMethod(object):\n",
      "“sparse->dense coercion: allocating vector of size 1.7 GiB”\n"
     ]
    },
    {
     "name": "stdout",
     "output_type": "stream",
     "text": [
      "[1] \"0h_2_scKB_COPILOT.rds\"\n",
      "$RNA\n",
      "Assay (v5) data with 27795 features for 6993 cells\n",
      "First 10 features:\n",
      " AT1G01010, AT1G03987, AT1G01040, AT1G03997, AT1G01110, AT1G01160,\n",
      "AT1G04013, AT1G01180, AT1G01210, AT1G01220 \n",
      "Layers:\n",
      " counts \n",
      "\n",
      "$spliced_RNA\n",
      "Assay data with 27795 features for 6993 cells\n",
      "First 10 features:\n",
      " AT1G01010, AT1G03987, AT1G01040, AT1G03997, AT1G01110, AT1G01160,\n",
      "AT1G04013, AT1G01180, AT1G01210, AT1G01220 \n",
      "\n",
      "$unspliced_RNA\n",
      "Assay data with 27795 features for 6993 cells\n",
      "First 10 features:\n",
      " AT1G01010, AT1G03987, AT1G01040, AT1G03997, AT1G01110, AT1G01160,\n",
      "AT1G04013, AT1G01180, AT1G01210, AT1G01220 \n",
      "\n",
      "$SCT\n",
      "SCTAssay data with 23554 features for 6993 cells, and 1 SCTModel(s) \n",
      "Top 10 variable features:\n",
      " AT2G36100, AT1G52070, AT2G28670, AT3G24020, AT1G52060, AT2G39430,\n",
      "AT5G60530, AT5G42180, AT2G31083, AT3G55230 \n",
      "\n",
      "$spliced_SCT\n",
      "SCTAssay data with 23257 features for 6993 cells, and 1 SCTModel(s) \n",
      "Top 10 variable features:\n",
      " AT2G36100, AT1G52070, AT3G24020, AT2G39430, AT1G52060, AT2G28670,\n",
      "AT2G31083, AT5G60530, AT5G42180, AT3G55230 \n",
      "\n",
      "$unspliced_SCT\n",
      "SCTAssay data with 15394 features for 6993 cells, and 1 SCTModel(s) \n",
      "Top 10 variable features:\n",
      " AT5G43580, AT2G05440, AT1G53708, AT2G30860, AT2G33830, AT4G11320,\n",
      "AT5G43380, AT3G47540, AT5G10580, AT1G12080 \n",
      "\n"
     ]
    },
    {
     "name": "stderr",
     "output_type": "stream",
     "text": [
      "Warning message in asMethod(object):\n",
      "“sparse->dense coercion: allocating vector of size 1.4 GiB”\n"
     ]
    },
    {
     "name": "stdout",
     "output_type": "stream",
     "text": [
      "[1] \"10h_1_scKB_COPILOT.rds\"\n",
      "$RNA\n",
      "Assay (v5) data with 26313 features for 5899 cells\n",
      "First 10 features:\n",
      " AT1G01010, AT1G01040, AT1G03997, AT1G01110, AT1G01160, AT1G04013,\n",
      "AT1G01180, AT1G01210, AT1G01220, AT1G01225 \n",
      "Layers:\n",
      " counts \n",
      "\n",
      "$spliced_RNA\n",
      "Assay data with 26313 features for 5899 cells\n",
      "First 10 features:\n",
      " AT1G01010, AT1G01040, AT1G03997, AT1G01110, AT1G01160, AT1G04013,\n",
      "AT1G01180, AT1G01210, AT1G01220, AT1G01225 \n",
      "\n",
      "$unspliced_RNA\n",
      "Assay data with 26313 features for 5899 cells\n",
      "First 10 features:\n",
      " AT1G01010, AT1G01040, AT1G03997, AT1G01110, AT1G01160, AT1G04013,\n",
      "AT1G01180, AT1G01210, AT1G01220, AT1G01225 \n",
      "\n",
      "$SCT\n",
      "SCTAssay data with 22715 features for 5899 cells, and 1 SCTModel(s) \n",
      "Top 10 variable features:\n",
      " AT1G52070, AT3G46230, AT1G75750, AT5G12030, AT1G21310, AT1G52060,\n",
      "AT1G07590, AT2G05510, AT5G54370, AT5G12020 \n",
      "\n",
      "$spliced_SCT\n",
      "SCTAssay data with 22365 features for 5899 cells, and 1 SCTModel(s) \n",
      "Top 10 variable features:\n",
      " AT1G52070, AT3G46230, AT1G75750, AT5G12030, AT1G21310, AT1G52060,\n",
      "AT1G07590, AT5G54370, AT5G12020, AT1G23720 \n",
      "\n",
      "$unspliced_SCT\n",
      "SCTAssay data with 15596 features for 5899 cells, and 1 SCTModel(s) \n",
      "Top 10 variable features:\n",
      " AT2G30860, AT2G05510, AT4G29020, AT1G21310, AT3G15680, AT2G05520,\n",
      "AT4G33260, AT3G51600, AT2G38870, AT5G01870 \n",
      "\n"
     ]
    },
    {
     "name": "stderr",
     "output_type": "stream",
     "text": [
      "Warning message in asMethod(object):\n",
      "“sparse->dense coercion: allocating vector of size 1.2 GiB”\n"
     ]
    },
    {
     "name": "stdout",
     "output_type": "stream",
     "text": [
      "[1] \"10h_2_scKB_COPILOT.rds\"\n",
      "$RNA\n",
      "Assay (v5) data with 26393 features for 7830 cells\n",
      "First 10 features:\n",
      " AT1G01010, AT1G01040, AT1G03997, AT1G01110, AT1G01160, AT1G04013,\n",
      "AT1G01180, AT1G01210, AT1G01220, AT1G01225 \n",
      "Layers:\n",
      " counts \n",
      "\n",
      "$spliced_RNA\n",
      "Assay data with 26393 features for 7830 cells\n",
      "First 10 features:\n",
      " AT1G01010, AT1G01040, AT1G03997, AT1G01110, AT1G01160, AT1G04013,\n",
      "AT1G01180, AT1G01210, AT1G01220, AT1G01225 \n",
      "\n",
      "$unspliced_RNA\n",
      "Assay data with 26393 features for 7830 cells\n",
      "First 10 features:\n",
      " AT1G01010, AT1G01040, AT1G03997, AT1G01110, AT1G01160, AT1G04013,\n",
      "AT1G01180, AT1G01210, AT1G01220, AT1G01225 \n",
      "\n",
      "$SCT\n",
      "SCTAssay data with 22872 features for 7830 cells, and 1 SCTModel(s) \n",
      "Top 10 variable features:\n",
      " AT1G52070, AT3G46230, AT1G21310, AT1G75750, AT5G12030, AT1G52060,\n",
      "AT1G07590, AT5G54370, AT5G12020, AT1G23720 \n",
      "\n",
      "$spliced_SCT\n",
      "SCTAssay data with 22543 features for 7830 cells, and 1 SCTModel(s) \n",
      "Top 10 variable features:\n",
      " AT1G52070, AT3G46230, AT1G75750, AT5G12030, AT1G21310, AT1G52060,\n",
      "AT1G07590, AT5G54370, AT1G23720, AT5G12020 \n",
      "\n",
      "$unspliced_SCT\n",
      "SCTAssay data with 15640 features for 7830 cells, and 1 SCTModel(s) \n",
      "Top 10 variable features:\n",
      " AT2G30860, AT4G29020, AT2G05510, AT5G01870, AT1G21310, AT2G38530,\n",
      "AT4G27230, AT4G33260, AT3G06700, AT1G25275 \n",
      "\n"
     ]
    },
    {
     "name": "stderr",
     "output_type": "stream",
     "text": [
      "Warning message in asMethod(object):\n",
      "“sparse->dense coercion: allocating vector of size 1.5 GiB”\n"
     ]
    },
    {
     "name": "stdout",
     "output_type": "stream",
     "text": [
      "[1] \"1d_1_scKB_COPILOT.rds\"\n",
      "$RNA\n",
      "Assay (v5) data with 24131 features for 88 cells\n",
      "First 10 features:\n",
      " AT1G01010, AT1G01040, AT1G01110, AT1G01160, AT1G04013, AT1G01180,\n",
      "AT1G01210, AT1G01220, AT1G01225, AT1G01230 \n",
      "Layers:\n",
      " counts \n",
      "\n",
      "$spliced_RNA\n",
      "Assay data with 24131 features for 88 cells\n",
      "First 10 features:\n",
      " AT1G01010, AT1G01040, AT1G01110, AT1G01160, AT1G04013, AT1G01180,\n",
      "AT1G01210, AT1G01220, AT1G01225, AT1G01230 \n",
      "\n",
      "$unspliced_RNA\n",
      "Assay data with 24131 features for 88 cells\n",
      "First 10 features:\n",
      " AT1G01010, AT1G01040, AT1G01110, AT1G01160, AT1G04013, AT1G01180,\n",
      "AT1G01210, AT1G01220, AT1G01225, AT1G01230 \n",
      "\n",
      "$SCT\n",
      "SCTAssay data with 18482 features for 88 cells, and 1 SCTModel(s) \n",
      "Top 10 variable features:\n",
      " AT2G40205, AT3G56020, AT1G56045, AT3G11260, ATMG00020, AT3G08520,\n",
      "AT4G39200, AT1G79075, AT3G06700, AT2G46390 \n",
      "\n",
      "$spliced_SCT\n",
      "SCTAssay data with 18318 features for 88 cells, and 1 SCTModel(s) \n",
      "Top 10 variable features:\n",
      " AT2G40205, AT3G56020, AT5G18380, AT3G11260, ATMG00020, AT3G08520,\n",
      "AT1G56045, AT4G31985, AT4G39200, AT1G79075 \n",
      "\n",
      "$unspliced_SCT\n",
      "SCTAssay data with 9944 features for 88 cells, and 1 SCTModel(s) \n",
      "Top 10 variable features:\n",
      " AT4G15000, AT2G30620, ATMG00580, AT1G27970, AT2G07708, AT3G43810,\n",
      "AT1G21750, AT2G30860, AT5G51410, AT2G33220 \n",
      "\n",
      "[1] \"1d_2_scKB_COPILOT.rds\"\n",
      "$RNA\n",
      "Assay (v5) data with 27289 features for 6958 cells\n",
      "First 10 features:\n",
      " AT1G01010, AT1G01040, AT1G03997, AT1G01110, AT1G01160, AT1G04013,\n",
      "AT1G01180, AT1G01210, AT1G01220, AT1G01225 \n",
      "Layers:\n",
      " counts \n",
      "\n",
      "$spliced_RNA\n",
      "Assay data with 27289 features for 6958 cells\n",
      "First 10 features:\n",
      " AT1G01010, AT1G01040, AT1G03997, AT1G01110, AT1G01160, AT1G04013,\n",
      "AT1G01180, AT1G01210, AT1G01220, AT1G01225 \n",
      "\n",
      "$unspliced_RNA\n",
      "Assay data with 27289 features for 6958 cells\n",
      "First 10 features:\n",
      " AT1G01010, AT1G01040, AT1G03997, AT1G01110, AT1G01160, AT1G04013,\n",
      "AT1G01180, AT1G01210, AT1G01220, AT1G01225 \n",
      "\n",
      "$SCT\n",
      "SCTAssay data with 23423 features for 6958 cells, and 1 SCTModel(s) \n",
      "Top 10 variable features:\n",
      " AT2G30860, AT3G15680, AT1G75750, AT5G16250, AT5G25090, AT5G25490,\n",
      "AT4G31840, AT5G10400, AT1G08560, AT1G52070 \n",
      "\n",
      "$spliced_SCT\n",
      "SCTAssay data with 23162 features for 6958 cells, and 1 SCTModel(s) \n",
      "Top 10 variable features:\n",
      " AT3G15680, AT1G75750, AT2G30860, AT5G16250, AT5G25090, AT5G25490,\n",
      "AT4G31840, AT5G10400, AT1G08560, AT1G52070 \n",
      "\n",
      "$unspliced_SCT\n",
      "SCTAssay data with 14968 features for 6958 cells, and 1 SCTModel(s) \n",
      "Top 10 variable features:\n",
      " AT2G30860, AT1G70830, AT2G15970, AT2G05440, AT3G49580, AT3G44310,\n",
      "AT5G17020, AT1G75500, AT2G30766, AT5G59970 \n",
      "\n"
     ]
    },
    {
     "name": "stderr",
     "output_type": "stream",
     "text": [
      "Warning message in asMethod(object):\n",
      "“sparse->dense coercion: allocating vector of size 1.4 GiB”\n"
     ]
    },
    {
     "name": "stdout",
     "output_type": "stream",
     "text": [
      "[1] \"2h_1_scKB_COPILOT.rds\"\n",
      "$RNA\n",
      "Assay (v5) data with 26845 features for 10371 cells\n",
      "First 10 features:\n",
      " AT1G01010, AT1G01040, AT1G03997, AT1G01110, AT1G01160, AT1G04013,\n",
      "AT1G01180, AT1G01210, AT1G01220, AT1G01225 \n",
      "Layers:\n",
      " counts \n",
      "\n",
      "$spliced_RNA\n",
      "Assay data with 26845 features for 10371 cells\n",
      "First 10 features:\n",
      " AT1G01010, AT1G01040, AT1G03997, AT1G01110, AT1G01160, AT1G04013,\n",
      "AT1G01180, AT1G01210, AT1G01220, AT1G01225 \n",
      "\n",
      "$unspliced_RNA\n",
      "Assay data with 26845 features for 10371 cells\n",
      "First 10 features:\n",
      " AT1G01010, AT1G01040, AT1G03997, AT1G01110, AT1G01160, AT1G04013,\n",
      "AT1G01180, AT1G01210, AT1G01220, AT1G01225 \n",
      "\n",
      "$SCT\n",
      "SCTAssay data with 23066 features for 10371 cells, and 1 SCTModel(s) \n",
      "Top 10 variable features:\n",
      " AT3G59370, AT1G52070, AT1G12080, AT2G31083, AT4G11290, AT1G52060,\n",
      "AT4G40090, AT5G05500, AT4G25820, AT4G23690 \n",
      "\n",
      "$spliced_SCT\n",
      "SCTAssay data with 22751 features for 10371 cells, and 1 SCTModel(s) \n",
      "Top 10 variable features:\n",
      " AT3G59370, AT1G52070, AT2G31083, AT1G12080, AT4G11290, AT1G52060,\n",
      "AT4G40090, AT5G05500, AT4G25820, AT1G05260 \n",
      "\n",
      "$unspliced_SCT\n",
      "SCTAssay data with 15445 features for 10371 cells, and 1 SCTModel(s) \n",
      "Top 10 variable features:\n",
      " AT2G30860, AT2G36100, AT2G05440, AT1G50060, AT1G12080, AT5G10580,\n",
      "AT4G11320, AT4G35350, AT3G47540, AT5G17460 \n",
      "\n"
     ]
    },
    {
     "name": "stderr",
     "output_type": "stream",
     "text": [
      "Warning message in asMethod(object):\n",
      "“sparse->dense coercion: allocating vector of size 2.1 GiB”\n"
     ]
    },
    {
     "name": "stdout",
     "output_type": "stream",
     "text": [
      "[1] \"2h_2_scKB_COPILOT.rds\"\n",
      "$RNA\n",
      "Assay (v5) data with 27086 features for 11971 cells\n",
      "First 10 features:\n",
      " AT1G01010, AT1G01040, AT1G03997, AT1G01110, AT1G01160, AT1G04013,\n",
      "AT1G01180, AT1G01210, AT1G01220, AT1G01225 \n",
      "Layers:\n",
      " counts \n",
      "\n",
      "$spliced_RNA\n",
      "Assay data with 27086 features for 11971 cells\n",
      "First 10 features:\n",
      " AT1G01010, AT1G01040, AT1G03997, AT1G01110, AT1G01160, AT1G04013,\n",
      "AT1G01180, AT1G01210, AT1G01220, AT1G01225 \n",
      "\n",
      "$unspliced_RNA\n",
      "Assay data with 27086 features for 11971 cells\n",
      "First 10 features:\n",
      " AT1G01010, AT1G01040, AT1G03997, AT1G01110, AT1G01160, AT1G04013,\n",
      "AT1G01180, AT1G01210, AT1G01220, AT1G01225 \n",
      "\n",
      "$SCT\n",
      "SCTAssay data with 23323 features for 11971 cells, and 1 SCTModel(s) \n",
      "Top 10 variable features:\n",
      " AT3G59370, AT1G12080, AT2G31083, AT4G11290, AT4G40090, AT5G05500,\n",
      "AT4G25820, AT1G52070, AT4G35350, AT5G57625 \n",
      "\n",
      "$spliced_SCT\n",
      "SCTAssay data with 23025 features for 11971 cells, and 1 SCTModel(s) \n",
      "Top 10 variable features:\n",
      " AT3G59370, AT1G12080, AT2G31083, AT4G11290, AT5G05500, AT4G40090,\n",
      "AT1G52070, AT4G25820, AT4G35350, AT5G57625 \n",
      "\n",
      "$unspliced_SCT\n",
      "SCTAssay data with 15722 features for 11971 cells, and 1 SCTModel(s) \n",
      "Top 10 variable features:\n",
      " AT2G30860, AT2G05440, AT2G36100, AT5G43380, AT1G12080, AT4G11320,\n",
      "AT5G10580, AT4G35350, AT3G47540, AT5G17460 \n",
      "\n"
     ]
    },
    {
     "name": "stderr",
     "output_type": "stream",
     "text": [
      "Warning message in asMethod(object):\n",
      "“sparse->dense coercion: allocating vector of size 2.4 GiB”\n"
     ]
    },
    {
     "name": "stdout",
     "output_type": "stream",
     "text": [
      "[1] \"4d_1_scKB_COPILOT.rds\"\n",
      "$RNA\n",
      "Assay (v5) data with 26586 features for 3746 cells\n",
      "First 10 features:\n",
      " AT1G01010, AT1G01040, AT1G03997, AT1G01110, AT1G01160, AT1G04013,\n",
      "AT1G01180, AT1G01210, AT1G01220, AT1G01225 \n",
      "Layers:\n",
      " counts \n",
      "\n",
      "$spliced_RNA\n",
      "Assay data with 26586 features for 3746 cells\n",
      "First 10 features:\n",
      " AT1G01010, AT1G01040, AT1G03997, AT1G01110, AT1G01160, AT1G04013,\n",
      "AT1G01180, AT1G01210, AT1G01220, AT1G01225 \n",
      "\n",
      "$unspliced_RNA\n",
      "Assay data with 26586 features for 3746 cells\n",
      "First 10 features:\n",
      " AT1G01010, AT1G01040, AT1G03997, AT1G01110, AT1G01160, AT1G04013,\n",
      "AT1G01180, AT1G01210, AT1G01220, AT1G01225 \n",
      "\n",
      "$SCT\n",
      "SCTAssay data with 22136 features for 3746 cells, and 1 SCTModel(s) \n",
      "Top 10 variable features:\n",
      " AT5G01870, AT2G38530, AT2G30860, AT2G38870, AT3G09260, AT1G07590,\n",
      "AT2G05520, AT5G59320, AT2G05380, AT1G54410 \n",
      "\n",
      "$spliced_SCT\n",
      "SCTAssay data with 21840 features for 3746 cells, and 1 SCTModel(s) \n",
      "Top 10 variable features:\n",
      " AT5G01870, AT2G38530, AT2G38870, AT1G07590, AT3G09260, AT5G59320,\n",
      "AT2G05520, AT3G20470, AT1G54410, AT3G16420 \n",
      "\n",
      "$unspliced_SCT\n",
      "SCTAssay data with 14610 features for 3746 cells, and 1 SCTModel(s) \n",
      "Top 10 variable features:\n",
      " AT2G30860, AT2G38530, AT2G38870, AT2G05510, AT3G51600, AT4G16240,\n",
      "AT5G01870, AT5G59320, AT4G29020, AT2G05520 \n",
      "\n",
      "[1] \"4d_2_scKB_COPILOT.rds\"\n",
      "$RNA\n",
      "Assay (v5) data with 26469 features for 5802 cells\n",
      "First 10 features:\n",
      " AT1G01010, AT1G01040, AT1G03997, AT1G01110, AT1G01160, AT1G04013,\n",
      "AT1G01180, AT1G01210, AT1G01220, AT1G01225 \n",
      "Layers:\n",
      " counts \n",
      "\n",
      "$spliced_RNA\n",
      "Assay data with 26469 features for 5802 cells\n",
      "First 10 features:\n",
      " AT1G01010, AT1G01040, AT1G03997, AT1G01110, AT1G01160, AT1G04013,\n",
      "AT1G01180, AT1G01210, AT1G01220, AT1G01225 \n",
      "\n",
      "$unspliced_RNA\n",
      "Assay data with 26469 features for 5802 cells\n",
      "First 10 features:\n",
      " AT1G01010, AT1G01040, AT1G03997, AT1G01110, AT1G01160, AT1G04013,\n",
      "AT1G01180, AT1G01210, AT1G01220, AT1G01225 \n",
      "\n",
      "$SCT\n",
      "SCTAssay data with 22345 features for 5802 cells, and 1 SCTModel(s) \n",
      "Top 10 variable features:\n",
      " AT5G01870, AT2G38530, AT2G30860, AT5G59320, AT3G09260, AT1G07590,\n",
      "AT1G54410, AT3G20470, AT3G51600, AT2G38870 \n",
      "\n",
      "$spliced_SCT\n",
      "SCTAssay data with 22044 features for 5802 cells, and 1 SCTModel(s) \n",
      "Top 10 variable features:\n",
      " AT5G01870, AT2G38530, AT5G59320, AT3G09260, AT1G07590, AT1G54410,\n",
      "AT3G20470, AT3G51600, AT2G38870, AT2G05520 \n",
      "\n",
      "$unspliced_SCT\n",
      "SCTAssay data with 14726 features for 5802 cells, and 1 SCTModel(s) \n",
      "Top 10 variable features:\n",
      " AT2G30860, AT2G38530, AT2G05510, AT2G38870, AT4G29020, AT4G16240,\n",
      "AT3G51600, AT4G27230, AT2G33830, AT2G05380 \n",
      "\n"
     ]
    },
    {
     "name": "stderr",
     "output_type": "stream",
     "text": [
      "Warning message in asMethod(object):\n",
      "“sparse->dense coercion: allocating vector of size 1.1 GiB”\n"
     ]
    },
    {
     "name": "stdout",
     "output_type": "stream",
     "text": [
      "[1] \"4h_1_scKB_COPILOT.rds\"\n",
      "$RNA\n",
      "Assay (v5) data with 26937 features for 9269 cells\n",
      "First 10 features:\n",
      " AT1G01010, AT1G01040, AT1G03997, AT1G01110, AT1G01160, AT1G04013,\n",
      "AT1G01180, AT1G01210, AT1G01220, AT1G01225 \n",
      "Layers:\n",
      " counts \n",
      "\n",
      "$spliced_RNA\n",
      "Assay data with 26937 features for 9269 cells\n",
      "First 10 features:\n",
      " AT1G01010, AT1G01040, AT1G03997, AT1G01110, AT1G01160, AT1G04013,\n",
      "AT1G01180, AT1G01210, AT1G01220, AT1G01225 \n",
      "\n",
      "$unspliced_RNA\n",
      "Assay data with 26937 features for 9269 cells\n",
      "First 10 features:\n",
      " AT1G01010, AT1G01040, AT1G03997, AT1G01110, AT1G01160, AT1G04013,\n",
      "AT1G01180, AT1G01210, AT1G01220, AT1G01225 \n",
      "\n",
      "$SCT\n",
      "SCTAssay data with 23060 features for 9269 cells, and 1 SCTModel(s) \n",
      "Top 10 variable features:\n",
      " AT1G52070, AT1G52060, AT1G12080, AT1G50060, AT5G54370, AT4G23690,\n",
      "AT3G15680, AT2G02130, AT1G44800, AT4G11290 \n",
      "\n",
      "$spliced_SCT\n",
      "SCTAssay data with 22758 features for 9269 cells, and 1 SCTModel(s) \n",
      "Top 10 variable features:\n",
      " AT1G52070, AT1G52060, AT1G12080, AT5G54370, AT1G50060, AT4G23690,\n",
      "AT2G02130, AT1G44800, AT4G11290, AT3G16440 \n",
      "\n",
      "$unspliced_SCT\n",
      "SCTAssay data with 15318 features for 9269 cells, and 1 SCTModel(s) \n",
      "Top 10 variable features:\n",
      " AT2G30860, AT2G05440, AT5G10580, AT1G50060, AT3G47540, AT3G53980,\n",
      "AT1G12080, AT3G22570, AT5G43380, AT3G15680 \n",
      "\n"
     ]
    },
    {
     "name": "stderr",
     "output_type": "stream",
     "text": [
      "Warning message in asMethod(object):\n",
      "“sparse->dense coercion: allocating vector of size 1.9 GiB”\n"
     ]
    },
    {
     "name": "stdout",
     "output_type": "stream",
     "text": [
      "[1] \"4h_2_scKB_COPILOT.rds\"\n",
      "$RNA\n",
      "Assay (v5) data with 26885 features for 8419 cells\n",
      "First 10 features:\n",
      " AT1G01010, AT1G01040, AT1G03997, AT1G01110, AT1G01160, AT1G04013,\n",
      "AT1G01180, AT1G01210, AT1G01220, AT1G01225 \n",
      "Layers:\n",
      " counts \n",
      "\n",
      "$spliced_RNA\n",
      "Assay data with 26885 features for 8419 cells\n",
      "First 10 features:\n",
      " AT1G01010, AT1G01040, AT1G03997, AT1G01110, AT1G01160, AT1G04013,\n",
      "AT1G01180, AT1G01210, AT1G01220, AT1G01225 \n",
      "\n",
      "$unspliced_RNA\n",
      "Assay data with 26885 features for 8419 cells\n",
      "First 10 features:\n",
      " AT1G01010, AT1G01040, AT1G03997, AT1G01110, AT1G01160, AT1G04013,\n",
      "AT1G01180, AT1G01210, AT1G01220, AT1G01225 \n",
      "\n",
      "$SCT\n",
      "SCTAssay data with 22841 features for 8419 cells, and 1 SCTModel(s) \n",
      "Top 10 variable features:\n",
      " AT1G52070, AT1G52060, AT1G50060, AT5G54370, AT1G12080, AT2G02130,\n",
      "AT3G59370, AT4G23690, AT3G16440, AT4G11290 \n",
      "\n",
      "$spliced_SCT\n",
      "SCTAssay data with 22537 features for 8419 cells, and 1 SCTModel(s) \n",
      "Top 10 variable features:\n",
      " AT1G52070, AT1G52060, AT1G50060, AT5G54370, AT2G02130, AT3G59370,\n",
      "AT1G12080, AT4G23690, AT3G16440, AT4G11290 \n",
      "\n",
      "$unspliced_SCT\n",
      "SCTAssay data with 15323 features for 8419 cells, and 1 SCTModel(s) \n",
      "Top 10 variable features:\n",
      " AT2G30860, AT1G50060, AT2G05440, AT5G10580, AT1G12080, AT5G43580,\n",
      "AT4G35350, AT2G05510, AT3G47540, AT5G43380 \n",
      "\n"
     ]
    },
    {
     "name": "stderr",
     "output_type": "stream",
     "text": [
      "Warning message in asMethod(object):\n",
      "“sparse->dense coercion: allocating vector of size 1.7 GiB”\n"
     ]
    },
    {
     "name": "stdout",
     "output_type": "stream",
     "text": [
      "[1] \"7d_1_scKB_COPILOT.rds\"\n",
      "$RNA\n",
      "Assay (v5) data with 27243 features for 10134 cells\n",
      "First 10 features:\n",
      " AT1G01010, AT1G01040, AT1G03997, AT1G01110, AT1G01160, AT1G04013,\n",
      "AT1G01180, AT1G01210, AT1G01220, AT1G01225 \n",
      "Layers:\n",
      " counts \n",
      "\n",
      "$spliced_RNA\n",
      "Assay data with 27243 features for 10134 cells\n",
      "First 10 features:\n",
      " AT1G01010, AT1G01040, AT1G03997, AT1G01110, AT1G01160, AT1G04013,\n",
      "AT1G01180, AT1G01210, AT1G01220, AT1G01225 \n",
      "\n",
      "$unspliced_RNA\n",
      "Assay data with 27243 features for 10134 cells\n",
      "First 10 features:\n",
      " AT1G01010, AT1G01040, AT1G03997, AT1G01110, AT1G01160, AT1G04013,\n",
      "AT1G01180, AT1G01210, AT1G01220, AT1G01225 \n",
      "\n",
      "$SCT\n",
      "SCTAssay data with 23504 features for 10134 cells, and 1 SCTModel(s) \n",
      "Top 10 variable features:\n",
      " AT5G59320, AT3G24250, AT2G38530, AT2G43610, AT5G64100, AT1G75750,\n",
      "AT2G43590, AT2G36830, AT1G62480, AT3G56240 \n",
      "\n",
      "$spliced_SCT\n",
      "SCTAssay data with 23246 features for 10134 cells, and 1 SCTModel(s) \n",
      "Top 10 variable features:\n",
      " AT5G59320, AT2G38530, AT3G24250, AT2G43610, AT5G64100, AT1G75750,\n",
      "AT2G43590, AT2G36830, AT3G56240, AT1G62480 \n",
      "\n",
      "$unspliced_SCT\n",
      "SCTAssay data with 16235 features for 10134 cells, and 1 SCTModel(s) \n",
      "Top 10 variable features:\n",
      " AT5G59320, AT2G38530, AT2G05510, AT2G33830, AT2G30860, AT1G19530,\n",
      "AT2G15970, AT1G75500, AT2G36100, AT2G05380 \n",
      "\n"
     ]
    },
    {
     "name": "stderr",
     "output_type": "stream",
     "text": [
      "Warning message in asMethod(object):\n",
      "“sparse->dense coercion: allocating vector of size 2.1 GiB”\n"
     ]
    },
    {
     "name": "stdout",
     "output_type": "stream",
     "text": [
      "[1] \"7d_2_scKB_COPILOT.rds\"\n",
      "$RNA\n",
      "Assay (v5) data with 26939 features for 10995 cells\n",
      "First 10 features:\n",
      " AT1G01010, AT1G01040, AT1G01110, AT1G01160, AT1G04013, AT1G01180,\n",
      "AT1G01210, AT1G01220, AT1G01225, AT1G01230 \n",
      "Layers:\n",
      " counts \n",
      "\n",
      "$spliced_RNA\n",
      "Assay data with 26939 features for 10995 cells\n",
      "First 10 features:\n",
      " AT1G01010, AT1G01040, AT1G01110, AT1G01160, AT1G04013, AT1G01180,\n",
      "AT1G01210, AT1G01220, AT1G01225, AT1G01230 \n",
      "\n",
      "$unspliced_RNA\n",
      "Assay data with 26939 features for 10995 cells\n",
      "First 10 features:\n",
      " AT1G01010, AT1G01040, AT1G01110, AT1G01160, AT1G04013, AT1G01180,\n",
      "AT1G01210, AT1G01220, AT1G01225, AT1G01230 \n",
      "\n",
      "$SCT\n",
      "SCTAssay data with 23226 features for 10995 cells, and 1 SCTModel(s) \n",
      "Top 10 variable features:\n",
      " AT5G59320, AT2G38530, AT3G24250, AT1G75750, AT2G43610, AT2G43590,\n",
      "AT2G36830, AT5G64100, AT2G05380, AT2G32300 \n",
      "\n",
      "$spliced_SCT\n",
      "SCTAssay data with 22983 features for 10995 cells, and 1 SCTModel(s) \n",
      "Top 10 variable features:\n",
      " AT5G59320, AT2G38530, AT3G24250, AT1G75750, AT2G43610, AT2G43590,\n",
      "AT2G36830, AT5G64100, AT2G05380, AT4G34050 \n",
      "\n",
      "$unspliced_SCT\n",
      "SCTAssay data with 15974 features for 10995 cells, and 1 SCTModel(s) \n",
      "Top 10 variable features:\n",
      " AT5G59320, AT2G30860, AT2G33830, AT2G38530, AT1G19530, AT2G05510,\n",
      "AT2G15970, AT2G36100, AT2G05380, AT5G57785 \n",
      "\n"
     ]
    },
    {
     "name": "stderr",
     "output_type": "stream",
     "text": [
      "Warning message in asMethod(object):\n",
      "“sparse->dense coercion: allocating vector of size 2.2 GiB”\n"
     ]
    }
   ],
   "source": [
    "# Set the working directory\n",
    "setwd(\"/lustre/BIF/nobackup/perez070/scRNA-seq_PLT1-WOX5/output/2-COPILOT\")\n",
    "\n",
    "# Get a list of all .rds files in the working directory\n",
    "rds_files <- list.files(pattern = \"\\\\.rds$\")\n",
    "\n",
    "# Loop through each .rds file\n",
    "for (rds_file in rds_files) {\n",
    "  \n",
    "  print(rds_file)\n",
    "\n",
    "  # Read the Seurat object from the .rds file\n",
    "  seurat_object <- readRDS(rds_file)\n",
    "\n",
    "  print(seurat_object@assays)\n",
    "  \n",
    "  # Extract the counts from the RNA assay (raw counts)\n",
    "  counts_RNA <- seurat_object[[\"RNA\"]]$counts\n",
    "  \n",
    "  # Convert to matrix and handle NaN values\n",
    "  counts_RNA <- as.matrix(counts_RNA)\n",
    "  \n",
    "  # Replace NaN values with 0 in all layers\n",
    "  counts_RNA[is.nan(counts_RNA)] <- 0\n",
    "  \n",
    "  # You can also store gene identifiers (variable features), but make sure to match this with your data\n",
    "  var <- rownames(seurat_object[[\"RNA\"]]$counts)\n",
    "\n",
    "  # Save the extracted data into an .RData file with the same name as the input .rds file\n",
    "  save(counts_RNA,\n",
    "      var, file = paste0(tools::file_path_sans_ext(rds_file), \"_rds_to_RData_total.RData\"))\n",
    "}"
   ]
  },
  {
   "cell_type": "markdown",
   "id": "b6ba9d29",
   "metadata": {},
   "source": [
    "**_PLT1 - WOX5_ overexpression line: (un)spliced counts (scVelo)**"
   ]
  },
  {
   "cell_type": "code",
   "execution_count": null,
   "id": "12574710",
   "metadata": {
    "vscode": {
     "languageId": "r"
    }
   },
   "outputs": [
    {
     "name": "stdout",
     "output_type": "stream",
     "text": [
      "[1] \"0h_1_scKB_COPILOT.rds\"\n",
      "An object of class Seurat \n",
      "144467 features across 8349 samples within 6 assays \n",
      "Active assay: SCT (23392 features, 23392 variable features)\n",
      " 3 layers present: counts, data, scale.data\n",
      " 5 other assays present: RNA, spliced_RNA, unspliced_RNA, spliced_SCT, unspliced_SCT\n",
      " 2 dimensional reductions calculated: pca, umap\n"
     ]
    },
    {
     "name": "stderr",
     "output_type": "stream",
     "text": [
      "Warning message in asMethod(object):\n",
      "“sparse->dense coercion: allocating vector of size 1.7 GiB”\n",
      "Warning message in asMethod(object):\n",
      "“sparse->dense coercion: allocating vector of size 1.7 GiB”\n",
      "Warning message in asMethod(object):\n",
      "“sparse->dense coercion: allocating vector of size 1.7 GiB”\n"
     ]
    },
    {
     "name": "stdout",
     "output_type": "stream",
     "text": [
      "[1] \"Shape of data_RNA: 27643 x 8349\"\n",
      "[1] \"Shape of data_spliced_RNA: 27643 x 8349\"\n",
      "[1] \"Shape of data_unspliced_RNA: 27643 x 8349\"\n",
      "[1] \"0h_2_scKB_COPILOT.rds\"\n",
      "An object of class Seurat \n",
      "145590 features across 6993 samples within 6 assays \n",
      "Active assay: SCT (23554 features, 23554 variable features)\n",
      " 3 layers present: counts, data, scale.data\n",
      " 5 other assays present: RNA, spliced_RNA, unspliced_RNA, spliced_SCT, unspliced_SCT\n",
      " 2 dimensional reductions calculated: pca, umap\n"
     ]
    },
    {
     "name": "stderr",
     "output_type": "stream",
     "text": [
      "Warning message in asMethod(object):\n",
      "“sparse->dense coercion: allocating vector of size 1.4 GiB”\n",
      "Warning message in asMethod(object):\n",
      "“sparse->dense coercion: allocating vector of size 1.4 GiB”\n",
      "Warning message in asMethod(object):\n",
      "“sparse->dense coercion: allocating vector of size 1.4 GiB”\n"
     ]
    },
    {
     "name": "stdout",
     "output_type": "stream",
     "text": [
      "[1] \"Shape of data_RNA: 27795 x 6993\"\n",
      "[1] \"Shape of data_spliced_RNA: 27795 x 6993\"\n",
      "[1] \"Shape of data_unspliced_RNA: 27795 x 6993\"\n",
      "[1] \"10h_1_scKB_COPILOT.rds\"\n",
      "An object of class Seurat \n",
      "139615 features across 5899 samples within 6 assays \n",
      "Active assay: SCT (22715 features, 22715 variable features)\n",
      " 3 layers present: counts, data, scale.data\n",
      " 5 other assays present: RNA, spliced_RNA, unspliced_RNA, spliced_SCT, unspliced_SCT\n",
      " 2 dimensional reductions calculated: pca, umap\n"
     ]
    },
    {
     "name": "stderr",
     "output_type": "stream",
     "text": [
      "Warning message in asMethod(object):\n",
      "“sparse->dense coercion: allocating vector of size 1.2 GiB”\n",
      "Warning message in asMethod(object):\n",
      "“sparse->dense coercion: allocating vector of size 1.2 GiB”\n",
      "Warning message in asMethod(object):\n",
      "“sparse->dense coercion: allocating vector of size 1.2 GiB”\n"
     ]
    },
    {
     "name": "stdout",
     "output_type": "stream",
     "text": [
      "[1] \"Shape of data_RNA: 26313 x 5899\"\n",
      "[1] \"Shape of data_spliced_RNA: 26313 x 5899\"\n",
      "[1] \"Shape of data_unspliced_RNA: 26313 x 5899\"\n",
      "[1] \"10h_2_scKB_COPILOT.rds\"\n",
      "An object of class Seurat \n",
      "140234 features across 7830 samples within 6 assays \n",
      "Active assay: SCT (22872 features, 22872 variable features)\n",
      " 3 layers present: counts, data, scale.data\n",
      " 5 other assays present: RNA, spliced_RNA, unspliced_RNA, spliced_SCT, unspliced_SCT\n",
      " 2 dimensional reductions calculated: pca, umap\n"
     ]
    },
    {
     "name": "stderr",
     "output_type": "stream",
     "text": [
      "Warning message in asMethod(object):\n",
      "“sparse->dense coercion: allocating vector of size 1.5 GiB”\n",
      "Warning message in asMethod(object):\n",
      "“sparse->dense coercion: allocating vector of size 1.5 GiB”\n",
      "Warning message in asMethod(object):\n",
      "“sparse->dense coercion: allocating vector of size 1.5 GiB”\n"
     ]
    },
    {
     "name": "stdout",
     "output_type": "stream",
     "text": [
      "[1] \"Shape of data_RNA: 26393 x 7830\"\n",
      "[1] \"Shape of data_spliced_RNA: 26393 x 7830\"\n",
      "[1] \"Shape of data_unspliced_RNA: 26393 x 7830\"\n",
      "[1] \"1d_1_scKB_COPILOT.rds\"\n",
      "An object of class Seurat \n",
      "119137 features across 88 samples within 6 assays \n",
      "Active assay: SCT (18482 features, 18482 variable features)\n",
      " 3 layers present: counts, data, scale.data\n",
      " 5 other assays present: RNA, spliced_RNA, unspliced_RNA, spliced_SCT, unspliced_SCT\n",
      " 2 dimensional reductions calculated: pca, umap\n",
      "[1] \"Shape of data_RNA: 24131 x 88\"\n",
      "[1] \"Shape of data_spliced_RNA: 24131 x 88\"\n",
      "[1] \"Shape of data_unspliced_RNA: 24131 x 88\"\n",
      "[1] \"1d_2_scKB_COPILOT.rds\"\n",
      "An object of class Seurat \n",
      "143420 features across 6958 samples within 6 assays \n",
      "Active assay: SCT (23423 features, 23423 variable features)\n",
      " 3 layers present: counts, data, scale.data\n",
      " 5 other assays present: RNA, spliced_RNA, unspliced_RNA, spliced_SCT, unspliced_SCT\n",
      " 2 dimensional reductions calculated: pca, umap\n"
     ]
    },
    {
     "name": "stderr",
     "output_type": "stream",
     "text": [
      "Warning message in asMethod(object):\n",
      "“sparse->dense coercion: allocating vector of size 1.4 GiB”\n",
      "Warning message in asMethod(object):\n",
      "“sparse->dense coercion: allocating vector of size 1.4 GiB”\n",
      "Warning message in asMethod(object):\n",
      "“sparse->dense coercion: allocating vector of size 1.4 GiB”\n"
     ]
    },
    {
     "name": "stdout",
     "output_type": "stream",
     "text": [
      "[1] \"Shape of data_RNA: 27289 x 6958\"\n",
      "[1] \"Shape of data_spliced_RNA: 27289 x 6958\"\n",
      "[1] \"Shape of data_unspliced_RNA: 27289 x 6958\"\n",
      "[1] \"2h_1_scKB_COPILOT.rds\"\n",
      "An object of class Seurat \n",
      "141797 features across 10371 samples within 6 assays \n",
      "Active assay: SCT (23066 features, 23066 variable features)\n",
      " 3 layers present: counts, data, scale.data\n",
      " 5 other assays present: RNA, spliced_RNA, unspliced_RNA, spliced_SCT, unspliced_SCT\n",
      " 2 dimensional reductions calculated: pca, umap\n"
     ]
    },
    {
     "name": "stderr",
     "output_type": "stream",
     "text": [
      "Warning message in asMethod(object):\n",
      "“sparse->dense coercion: allocating vector of size 2.1 GiB”\n",
      "Warning message in asMethod(object):\n",
      "“sparse->dense coercion: allocating vector of size 2.1 GiB”\n",
      "Warning message in asMethod(object):\n",
      "“sparse->dense coercion: allocating vector of size 2.1 GiB”\n"
     ]
    },
    {
     "name": "stdout",
     "output_type": "stream",
     "text": [
      "[1] \"Shape of data_RNA: 26845 x 10371\"\n",
      "[1] \"Shape of data_spliced_RNA: 26845 x 10371\"\n",
      "[1] \"Shape of data_unspliced_RNA: 26845 x 10371\"\n",
      "[1] \"2h_2_scKB_COPILOT.rds\"\n",
      "An object of class Seurat \n",
      "143328 features across 11971 samples within 6 assays \n",
      "Active assay: SCT (23323 features, 23323 variable features)\n",
      " 3 layers present: counts, data, scale.data\n",
      " 5 other assays present: RNA, spliced_RNA, unspliced_RNA, spliced_SCT, unspliced_SCT\n",
      " 2 dimensional reductions calculated: pca, umap\n"
     ]
    },
    {
     "name": "stderr",
     "output_type": "stream",
     "text": [
      "Warning message in asMethod(object):\n",
      "“sparse->dense coercion: allocating vector of size 2.4 GiB”\n",
      "Warning message in asMethod(object):\n",
      "“sparse->dense coercion: allocating vector of size 2.4 GiB”\n",
      "Warning message in asMethod(object):\n",
      "“sparse->dense coercion: allocating vector of size 2.4 GiB”\n"
     ]
    },
    {
     "name": "stdout",
     "output_type": "stream",
     "text": [
      "[1] \"Shape of data_RNA: 27086 x 11971\"\n",
      "[1] \"Shape of data_spliced_RNA: 27086 x 11971\"\n",
      "[1] \"Shape of data_unspliced_RNA: 27086 x 11971\"\n",
      "[1] \"4d_1_scKB_COPILOT.rds\"\n",
      "An object of class Seurat \n",
      "138344 features across 3746 samples within 6 assays \n",
      "Active assay: SCT (22136 features, 22136 variable features)\n",
      " 3 layers present: counts, data, scale.data\n",
      " 5 other assays present: RNA, spliced_RNA, unspliced_RNA, spliced_SCT, unspliced_SCT\n",
      " 2 dimensional reductions calculated: pca, umap\n",
      "[1] \"Shape of data_RNA: 26586 x 3746\"\n",
      "[1] \"Shape of data_spliced_RNA: 26586 x 3746\"\n",
      "[1] \"Shape of data_unspliced_RNA: 26586 x 3746\"\n",
      "[1] \"4d_2_scKB_COPILOT.rds\"\n",
      "An object of class Seurat \n",
      "138522 features across 5802 samples within 6 assays \n",
      "Active assay: SCT (22345 features, 22345 variable features)\n",
      " 3 layers present: counts, data, scale.data\n",
      " 5 other assays present: RNA, spliced_RNA, unspliced_RNA, spliced_SCT, unspliced_SCT\n",
      " 2 dimensional reductions calculated: pca, umap\n"
     ]
    },
    {
     "name": "stderr",
     "output_type": "stream",
     "text": [
      "Warning message in asMethod(object):\n",
      "“sparse->dense coercion: allocating vector of size 1.1 GiB”\n",
      "Warning message in asMethod(object):\n",
      "“sparse->dense coercion: allocating vector of size 1.1 GiB”\n",
      "Warning message in asMethod(object):\n",
      "“sparse->dense coercion: allocating vector of size 1.1 GiB”\n"
     ]
    },
    {
     "name": "stdout",
     "output_type": "stream",
     "text": [
      "[1] \"Shape of data_RNA: 26469 x 5802\"\n",
      "[1] \"Shape of data_spliced_RNA: 26469 x 5802\"\n",
      "[1] \"Shape of data_unspliced_RNA: 26469 x 5802\"\n",
      "[1] \"4h_1_scKB_COPILOT.rds\"\n",
      "An object of class Seurat \n",
      "141947 features across 9269 samples within 6 assays \n",
      "Active assay: SCT (23060 features, 23060 variable features)\n",
      " 3 layers present: counts, data, scale.data\n",
      " 5 other assays present: RNA, spliced_RNA, unspliced_RNA, spliced_SCT, unspliced_SCT\n",
      " 2 dimensional reductions calculated: pca, umap\n"
     ]
    },
    {
     "name": "stderr",
     "output_type": "stream",
     "text": [
      "Warning message in asMethod(object):\n",
      "“sparse->dense coercion: allocating vector of size 1.9 GiB”\n",
      "Warning message in asMethod(object):\n",
      "“sparse->dense coercion: allocating vector of size 1.9 GiB”\n",
      "Warning message in asMethod(object):\n",
      "“sparse->dense coercion: allocating vector of size 1.9 GiB”\n"
     ]
    },
    {
     "name": "stdout",
     "output_type": "stream",
     "text": [
      "[1] \"Shape of data_RNA: 26937 x 9269\"\n",
      "[1] \"Shape of data_spliced_RNA: 26937 x 9269\"\n",
      "[1] \"Shape of data_unspliced_RNA: 26937 x 9269\"\n",
      "[1] \"4h_2_scKB_COPILOT.rds\"\n",
      "An object of class Seurat \n",
      "141356 features across 8419 samples within 6 assays \n",
      "Active assay: SCT (22841 features, 22841 variable features)\n",
      " 3 layers present: counts, data, scale.data\n",
      " 5 other assays present: RNA, spliced_RNA, unspliced_RNA, spliced_SCT, unspliced_SCT\n",
      " 2 dimensional reductions calculated: pca, umap\n"
     ]
    },
    {
     "name": "stderr",
     "output_type": "stream",
     "text": [
      "Warning message in asMethod(object):\n",
      "“sparse->dense coercion: allocating vector of size 1.7 GiB”\n",
      "Warning message in asMethod(object):\n",
      "“sparse->dense coercion: allocating vector of size 1.7 GiB”\n",
      "Warning message in asMethod(object):\n",
      "“sparse->dense coercion: allocating vector of size 1.7 GiB”\n"
     ]
    },
    {
     "name": "stdout",
     "output_type": "stream",
     "text": [
      "[1] \"Shape of data_RNA: 26885 x 8419\"\n",
      "[1] \"Shape of data_spliced_RNA: 26885 x 8419\"\n",
      "[1] \"Shape of data_unspliced_RNA: 26885 x 8419\"\n",
      "[1] \"7d_1_scKB_COPILOT.rds\"\n",
      "An object of class Seurat \n",
      "144714 features across 10134 samples within 6 assays \n",
      "Active assay: SCT (23504 features, 23504 variable features)\n",
      " 3 layers present: counts, data, scale.data\n",
      " 5 other assays present: RNA, spliced_RNA, unspliced_RNA, spliced_SCT, unspliced_SCT\n",
      " 2 dimensional reductions calculated: pca, umap\n"
     ]
    },
    {
     "name": "stderr",
     "output_type": "stream",
     "text": [
      "Warning message in asMethod(object):\n",
      "“sparse->dense coercion: allocating vector of size 2.1 GiB”\n",
      "Warning message in asMethod(object):\n",
      "“sparse->dense coercion: allocating vector of size 2.1 GiB”\n",
      "Warning message in asMethod(object):\n",
      "“sparse->dense coercion: allocating vector of size 2.1 GiB”\n"
     ]
    },
    {
     "name": "stdout",
     "output_type": "stream",
     "text": [
      "[1] \"Shape of data_RNA: 27243 x 10134\"\n",
      "[1] \"Shape of data_spliced_RNA: 27243 x 10134\"\n",
      "[1] \"Shape of data_unspliced_RNA: 27243 x 10134\"\n",
      "[1] \"7d_2_scKB_COPILOT.rds\"\n",
      "An object of class Seurat \n",
      "143000 features across 10995 samples within 6 assays \n",
      "Active assay: SCT (23226 features, 23226 variable features)\n",
      " 3 layers present: counts, data, scale.data\n",
      " 5 other assays present: RNA, spliced_RNA, unspliced_RNA, spliced_SCT, unspliced_SCT\n",
      " 2 dimensional reductions calculated: pca, umap\n"
     ]
    },
    {
     "name": "stderr",
     "output_type": "stream",
     "text": [
      "Warning message in asMethod(object):\n",
      "“sparse->dense coercion: allocating vector of size 2.2 GiB”\n",
      "Warning message in asMethod(object):\n",
      "“sparse->dense coercion: allocating vector of size 2.2 GiB”\n",
      "Warning message in asMethod(object):\n",
      "“sparse->dense coercion: allocating vector of size 2.2 GiB”\n"
     ]
    },
    {
     "name": "stdout",
     "output_type": "stream",
     "text": [
      "[1] \"Shape of data_RNA: 26939 x 10995\"\n",
      "[1] \"Shape of data_spliced_RNA: 26939 x 10995\"\n",
      "[1] \"Shape of data_unspliced_RNA: 26939 x 10995\"\n"
     ]
    }
   ],
   "source": [
    "# Set the working directory\n",
    "setwd(\"/lustre/BIF/nobackup/perez070/scRNA-seq_PLT1-WOX5/output/2-COPILOT\")\n",
    "\n",
    "# Get a list of all .rds files in the working directory\n",
    "rds_files <- list.files(pattern = \"\\\\.rds$\")\n",
    "\n",
    "# Loop through each .rds file\n",
    "for (rds_file in rds_files) {\n",
    "  \n",
    "  print(rds_file)\n",
    "\n",
    "  # Read the Seurat object from the .rds file\n",
    "  seurat_object <- readRDS(rds_file)\n",
    "\n",
    "  print(seurat_object)\n",
    "  \n",
    "  # Extract the counts, data, and scale.data layers for RNA, spliced_RNA, and unspliced_RNA assays\n",
    "  data_RNA <- seurat_object[[\"RNA\"]]$counts\n",
    "  data_spliced_RNA <- seurat_object[[\"spliced_RNA\"]]$counts\n",
    "  data_unspliced_RNA <- seurat_object[[\"unspliced_RNA\"]]$counts\n",
    "  \n",
    "  # Convert to matrix and handle NaN values\n",
    "  data_RNA <- as.matrix(data_RNA)\n",
    "  data_spliced_RNA <- as.matrix(data_spliced_RNA)\n",
    "  data_unspliced_RNA <- as.matrix(data_unspliced_RNA)\n",
    "  \n",
    "  # Make the unspliced and spliced to be the same dimensions\n",
    "  data_spliced_RNA <- data_spliced_RNA[match(rownames(data_RNA), rownames(data_spliced_RNA)), ]\n",
    "  data_unspliced_RNA <- data_unspliced_RNA[match(rownames(data_RNA), rownames(data_unspliced_RNA)), ]\n",
    "\n",
    "  # Replace NaN values with 0 in all layers\n",
    "  data_RNA[is.nan(data_RNA)] <- 0\n",
    "  data_spliced_RNA[is.nan(data_spliced_RNA)] <- 0\n",
    "  data_unspliced_RNA[is.nan(data_unspliced_RNA)] <- 0\n",
    "\n",
    "  print(paste(\"Shape of data_RNA:\", paste(dim(data_RNA), collapse = \" x \")))\n",
    "  print(paste(\"Shape of data_spliced_RNA:\", paste(dim(data_spliced_RNA), collapse = \" x \")))\n",
    "  print(paste(\"Shape of data_unspliced_RNA:\", paste(dim(data_unspliced_RNA), collapse = \" x \")))\n",
    "  \n",
    "  # You can also store gene identifiers (variable features), but make sure to match this with your data\n",
    "  var <- rownames(seurat_object[[\"RNA\"]]$counts)\n",
    "  \n",
    "  # Save the extracted data into an .RData file with the same name as the input .rds file\n",
    "  save(data_RNA, data_spliced_RNA, data_unspliced_RNA,\n",
    "       var, file = paste0(tools::file_path_sans_ext(rds_file), \"_rds_to_RData_spliced.RData\"))\n",
    "}\n"
   ]
  }
 ],
 "metadata": {
  "kernelspec": {
   "display_name": "R",
   "language": "R",
   "name": "ir"
  },
  "language_info": {
   "codemirror_mode": "r",
   "file_extension": ".r",
   "mimetype": "text/x-r-source",
   "name": "R",
   "pygments_lexer": "r",
   "version": "4.4.3"
  }
 },
 "nbformat": 4,
 "nbformat_minor": 5
}
